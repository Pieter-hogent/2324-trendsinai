{
 "cells": [
  {
   "cell_type": "markdown",
   "source": [
    "## Oplossingen\n",
    "\n",
    "Er zijn héél veel mogelijke oplossingen voor de oefeningen in het prompt engineering stuk, ik geef hier een paar mogelijke, maar er bestaan er zeker andere (en betere) ook."
   ],
   "metadata": {
    "collapsed": false
   },
   "id": "6182905790515cd0"
  },
  {
   "cell_type": "markdown",
   "source": [
    "### oefening\n",
    "\n",
    "1. Creëer een prompt die een die een databank schema genereert zodat het bovenstaande json formaat kan opgeslaan worden in een SQLite databank."
   ],
   "metadata": {
    "collapsed": false
   },
   "id": "bec363b6afb7e28f"
  },
  {
   "cell_type": "code",
   "execution_count": null,
   "id": "initial_id",
   "metadata": {
    "collapsed": true
   },
   "outputs": [],
   "source": [
    "prompt = f\"\"\"\n",
    "create a database scheme so that the following JSON data can be stored in an SQLite database \n",
    "JSON: ```{json_data}```\n",
    "\"\"\"\n",
    "\n",
    "\n",
    "response = get_answer(prompt)\n",
    "print(response)"
   ]
  },
  {
   "cell_type": "markdown",
   "source": [
    "2. Creëer vervolgens een prompt die als datalayer van een NodeJs die data ophaalt.\n",
    "3. En laat de LLM als laatste de door mij gegenereerde JavaScript code aanpassen zodat deze datalayer gebruikt wordt.\n",
    "\n",
    "**OPGELET**: werkt enkel indien uitgevoerd NA het block voor deze oefening (waar `code` ingevuld wordt) "
   ],
   "metadata": {
    "collapsed": false
   },
   "id": "d1ff66113953fbc6"
  },
  {
   "cell_type": "code",
   "execution_count": null,
   "outputs": [],
   "source": [
    "prompt=f\"\"\"\n",
    "you are an expert NodeJs developer, write datalayer code which can retrieve data from a SQLite database with a single table 'transactions', created with the following command ```CREATE TABLE transactions (\n",
    "  transaction_id TEXT PRIMARY KEY,\n",
    "  amount INTEGER,\n",
    "  date TEXT,\n",
    "  place TEXT);```\n",
    "  \n",
    "  Use that code to adapt the following piece of code, transactions should come from the datalayer and not be hardcoded ```{code}```\n",
    "\"\"\"\n",
    "\n",
    "\n",
    "response = get_answer(prompt)\n",
    "print(response)"
   ],
   "metadata": {
    "collapsed": false
   },
   "id": "790b1d344d9cb947"
  },
  {
   "cell_type": "markdown",
   "source": [
    "### oefening\n",
    "\n",
    "1. Creëer een prompt die de uitleg over LLM's van vorige week samenvat.\n",
    "2. Vervolgens willen we suggesties over hoe de uitleg kan verbeterd worden, en later ook uitgediept.\n",
    "3. Daarnaast een prompt die alle schrijffouten eruit haalt, we willen enkel de tekst zonder schrijffouten, geen blabla er rond."
   ],
   "metadata": {
    "collapsed": false
   },
   "id": "988c121bc5e3276e"
  },
  {
   "cell_type": "code",
   "execution_count": null,
   "outputs": [],
   "source": [],
   "metadata": {
    "collapsed": false
   },
   "id": "55bc21a539a8b22f"
  },
  {
   "cell_type": "markdown",
   "source": [
    "#### oefening\n",
    "\n",
    "Ga op zoek naar een lijst van reviews (vijf a tiental), maak een prompt die voor elke review een antwoord genereert als JSON object, met enerzijds een SENTIMENT key die 'positive' of 'negative' als antwoord geeft, en daarnaast EMOTIONS die een array bevat met de top drie emoties van de review.\n",
    "Geef daarnaast ook een samenvatting van alle reviews 'mostly positive / mostly negative' al naargelang wat meest van toepassing is. (gegenereert door een prompt uiteraard)"
   ],
   "metadata": {
    "collapsed": false
   },
   "id": "b49aa410524ea7ac"
  },
  {
   "cell_type": "code",
   "execution_count": null,
   "outputs": [],
   "source": [
    "reviews = [\"The PS5 is very easy to install, when I took it out of the box I was a bit shocked by the size. First I put it on the horizontal position, I wish it could have been fixed a bit better. Every time I pull it forward, it falls out of position and that's a shame. \", \" After a long search and response, I was finally able to get one! Installation done in no time, put in a few cables, go through some menus, install a few games (even if you have a disc). And let's play! \", \" After a long search and response, I was finally able to get one! Installation done in no time, put in a few cables, go through some menus, install a few games (even if you have a disc). And let's play! \", \" Playstation 5 is fine with me. Had a PS4 Pro before and now the PS5. You will notice the difference in gameplay. Ratchet and Clank is a must, the fast transition of levels is fantastic. Just like using the ps5 controller, a good test environment for the controller's potential. Also playing Yakuza: like a Dragon. For this I upgraded my PS4 version to a PS5 version. The loading time is much shorter and graphically it just looks a bit tighter. The only pity is that my save file couldn't get over, so I had to start all over again. Other than that it's fine and I'm very happy with it. \"]\n",
    "\n",
    "prompt = f\"\"\"\n",
    "For each review in the following list, return a JSON object with a key SENTIMENT that has either positive or negative as value, and a key EMOTIONS that contains an array of the three most prominent emotions in the review, emotions should be a single word.\n",
    "\n",
    "Also summarize all reviews with either \"mostly positive\" or \"mostly negative\" \n",
    "\n",
    "reviews: {reviews} \n",
    "\n",
    "\n",
    "\"\"\"\n",
    "\n",
    "res = get_answer(prompt, False)\n",
    "print(res)\n"
   ],
   "metadata": {
    "collapsed": false
   },
   "id": "876ca99ccfa73fba"
  }
 ],
 "metadata": {
  "kernelspec": {
   "display_name": "Python 3",
   "language": "python",
   "name": "python3"
  },
  "language_info": {
   "codemirror_mode": {
    "name": "ipython",
    "version": 2
   },
   "file_extension": ".py",
   "mimetype": "text/x-python",
   "name": "python",
   "nbconvert_exporter": "python",
   "pygments_lexer": "ipython2",
   "version": "2.7.6"
  }
 },
 "nbformat": 4,
 "nbformat_minor": 5
}

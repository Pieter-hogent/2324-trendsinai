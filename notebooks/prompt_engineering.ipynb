{
 "cells": [
  {
   "cell_type": "markdown",
   "id": "3e4c8c31-af4b-452f-960f-6f7bb2d0a4be",
   "metadata": {},
   "source": [
    "# Prompt engineering\n",
    "\n"
   ]
  },
  {
   "cell_type": "markdown",
   "id": "32950383-6236-4e9d-99a0-0afe63025fac",
   "metadata": {},
   "source": [
    "## wat\n",
    "\n",
    "Prompt engineering is het sleutelen aan de vraag (de prompt) die je aan LLM's stelt zodat je een beter antwoord krijgt.\n",
    "Er bleek al snel dat bij ChatGPT e.d. de bruikbaarheid en betrouwbaarheid van het antwoord sterk kan verbeterd worden door de vraag op een bepaalde manier te stellen. Er ontstond zo een nieuwe discipline: prompt engineering.\n",
    "\n",
    "\n",
    "![prompt engineering trend](img/prompt_engineering.png)\n",
    "\n",
    "\n",
    "De interesse hierin is zeer nieuw, en naarmate de modellen matuurder worden zal hier ook meer en meer consensus ontstaan van wat \"best practices\" zijn, maar we kunnen toch al een aantal principes opstellen over hoe je betere resultaten krijgt uit deze modellen, afhankelijk van wat je probeert te bereiken.\n",
    "De kans dat dit hoofdstuk volgend jaar (of zelfs tegen het einde van het semester) hetzelfde is, is vrij gering, dit onderzoeksdomein wijzigt zeer snel.\n",
    "\n",
    "Vandaag gaan we wat experimenteren en demonstreren wat er zoal beweegt, volgende week gaan we dan proberen toch ietwat te formaliseren wat ondertussen geweten is over hoe een goede prompt opgebouwd wordt."
   ]
  },
  {
   "cell_type": "markdown",
   "id": "9254c811-ada7-49d1-9e7e-fdb6cc2f4083",
   "metadata": {},
   "source": [
    "## setup\n",
    "\n",
    "We gaan met de OpenAI API connecteren, hiervoor heb je een OpenAI API key nodig, en een account bij OpenAI. De eerste €18 zijn gratis, maar je bent ook sowieso in tijd beperkt. (of je de €18 nu opgebruikt of niet, na drie maanden is de API niet langer gratis)\n",
    "\n",
    "Om dit een beetje te duiden, je betaalt bij ChatGPT per 'token'. ChatGPT (en andere LLM's) genereren hun teksten in stukjes die we tokens noemen. Het hangt van de taal af, maar bij Engels en Nederlands komen tokens min of meer overeen met het aantal lettergrepen.\n",
    "Je betaalt zowel voor tokens in de vraag als in het antwoord aan een €0.002 per 1000 tokens. Je €18 is dus goed voor 9.000.000 tokens. Om wat in de les (en thuis) manueel mee te prutsen zal dit ruimschoots voldoende zijn, maar als je dit 'echt' gebruikt in geautomatiseerde processen best je verbruik goed in de gaten houden.\n",
    "\n",
    "Een alternatief is lokaal GPT4All draaien, die dezelfde API nabootst. De antwoorden zijn minder goed, maar het is wel altijd volledig gratis natuurlijk, dus zeker om alles op te zetten en te testen een aantrekkelijke optie.\n",
    "Ergens in juni werkte dit goed, begin september na een update kreeg ik het niet meer aan de praat op mijn macbook, hopelijk weer wel tegen dat jullie deze les krijgen. Maar los van de API draaien zijn er nog Python bindings, die wel werken, zie verder.\n",
    "\n"
   ]
  },
  {
   "cell_type": "code",
   "execution_count": null,
   "id": "1b848424cd78f3c6",
   "metadata": {
    "collapsed": false
   },
   "outputs": [],
   "source": []
  },
  {
   "cell_type": "code",
   "execution_count": 1,
   "id": "3d6e6ee6-157b-4c7d-996a-3f0b8bb5df26",
   "metadata": {
    "ExecuteTime": {
     "end_time": "2023-10-11T14:15:26.213171Z",
     "start_time": "2023-10-11T14:15:25.092567Z"
    }
   },
   "outputs": [],
   "source": [
    "import openai\n",
    "import os\n",
    "\n",
    "from dotenv import load_dotenv, find_dotenv\n",
    "_ = load_dotenv(find_dotenv())\n",
    "\n",
    "openai.api_key  = os.getenv('OPENAI_API_KEY')"
   ]
  },
  {
   "cell_type": "code",
   "execution_count": null,
   "id": "6f18aaf0-ce4b-4090-abb1-e462639d0cfa",
   "metadata": {
    "ExecuteTime": {
     "end_time": "2023-10-11T14:15:29.336103Z",
     "start_time": "2023-10-11T14:15:29.284730Z"
    }
   },
   "outputs": [],
   "source": [
    "# check dat je de key goed ingesteld had via .env\n",
    "# print (openai.api_key)"
   ]
  },
  {
   "cell_type": "markdown",
   "id": "a35471c9-12cc-461f-b1b2-a63b681ad564",
   "metadata": {},
   "source": [
    "### OpenAI API\n",
    "\n",
    "Om de API te gebruiken dien je de [chat completions API](https://platform.openai.com/docs/guides/gpt/chat-completions-api) aan te spreken. Je geeft minimaal een (lijst van) boodschappen, het model dat je wenst te gebruiken en de api key als input, en krijgt het door het model gegenereerde antwoord terug.\n",
    "\n",
    "Hoewel *Chat*GPT eigenlijk ontworpen is om conversaties te houden, kan het toch nuttig zijn als je in een \"single turn\" mode gebruikt ook.\n",
    "\n",
    "(deze les gaan we altijd `role: user` gebruiken, volgende les gaan we dieper in op welke rollen er zijn en hoe die kunnen gebruikt worden)\n",
    "\n",
    "\n"
   ]
  },
  {
   "cell_type": "code",
   "execution_count": null,
   "id": "183a3490-c007-4afd-ab32-54a92ec13280",
   "metadata": {
    "ExecuteTime": {
     "end_time": "2023-10-03T08:52:18.597276Z",
     "start_time": "2023-10-03T08:52:07.581309Z"
    }
   },
   "outputs": [
    {
     "name": "stdout",
     "output_type": "stream",
     "text": [
      "{\n",
      "  \"choices\": [\n",
      "    {\n",
      "      \"finish_reason\": \"stop\",\n",
      "      \"index\": 0,\n",
      "      \"message\": {\n",
      "        \"content\": \"Prompt engineering verwijst naar de praktijk van het cre\\u00ebren en aanpassen van prompts of aanwijzingen in een interactief systeem om het gewenste gedrag van gebruikers te bevorderen.\\n\\nPrompts zijn berichten, suggesties of aanwijzingen die gebruikers begeleiden bij het nemen van specifieke acties of het volgen van bepaalde richtlijnen. Het doel van prompt engineering is om de gebruikerservaring te verbeteren, de kans op fouten te verminderen en het gewenste gedrag te bevorderen.\\n\\nPrompt engineering kan worden toegepast in verschillende contexten, waaronder softwareapplicaties, websites, mobiele apps en zelfs fysieke apparaten. Het kan worden gebruikt om gebruikers te helpen bij het voltooien van een specifieke taak, het nemen van een beslissing, het invullen van een formulier of het begrijpen van complexe functies.\\n\\nEr zijn verschillende principes en beste praktijken die kunnen worden toegepast bij prompt engineering:\\n\\n1. Duidelijkheid: Prompts moeten duidelijk en begrijpelijk zijn voor gebruikers. Ze moeten de gewenste actie of het gewenste gedrag op een eenvoudige en beknopte manier communiceren.\\n\\n2. Contextuele relevantie: Prompts moeten relevant zijn voor de specifieke context en taak van de gebruiker. Ze moeten betrekking hebben op de huidige activiteit en de gebruiker helpen om de taak effectief uit te voeren.\\n\\n3. Timeliness: Prompts moeten op het juiste moment worden weergegeven. Ze moeten worden getoond wanneer de gebruiker ze het meest nodig heeft en wanneer het meest effectief is om ze te laten zien.\\n\\n4. Positieve aanmoediging: Prompts kunnen ook worden gebruikt om gebruikers aan te moedigen en te motiveren. Ze kunnen positieve feedback geven, prestaties benadrukken of beloningen aanbieden om gewenst gedrag te bevorderen.\\n\\nHet ontwerpen en implementeren van effectieve prompts vereist inzicht in gebruikersgedrag, doelstellingen en de specifieke context waarin het systeem wordt gebruikt. Het is belangrijk om gebruik te maken van gebruikerstesten en feedbackloops om de prompts iteratief te verbeteren.\\n\\nOver het algemeen kan prompt engineering bijdragen aan een betere gebruikerservaring, hogere effici\\u00ebntie en betere resultaten bij interactieve systemen. Door gebruikers te begeleiden en te ondersteunen, kunnen prompts hen helpen om effectiever en met minder fouten met de systemen om te gaan.\",\n",
      "        \"role\": \"assistant\"\n",
      "      }\n",
      "    }\n",
      "  ],\n",
      "  \"created\": 1696323128,\n",
      "  \"id\": \"chatcmpl-85VQO8hbEVsiOPrZeCh6ceN55zVNy\",\n",
      "  \"model\": \"gpt-3.5-turbo-0613\",\n",
      "  \"object\": \"chat.completion\",\n",
      "  \"usage\": {\n",
      "    \"completion_tokens\": 609,\n",
      "    \"prompt_tokens\": 17,\n",
      "    \"total_tokens\": 626\n",
      "  }\n",
      "}\n"
     ]
    }
   ],
   "source": [
    "response = openai.ChatCompletion.create(model=\"gpt-3.5-turbo\", messages=[{\"role\": \"user\", \"content\": \"Ik zou graag meer leren over prompt engineering\"}])\n",
    "print (response)"
   ]
  },
  {
   "cell_type": "markdown",
   "id": "cee06688-fd4b-4ac1-a20f-ab0b5f91a97f",
   "metadata": {},
   "source": [
    "Je krijgt steeds een JSON object als antwoord, naast een timestamp en de precieze versie van het model dat gebruikt werd interesseert ons hier vooral het object `choices[0].message[\"content\"]` dat het antwoord bevat.\n",
    "\n",
    "Daarnaast zal ook altijd het aantal tokens voor vraag/antwoord terug gestuurd worden, waarmee je ook de kost kan berekenen. Deze specifieke prompt kostte €0,0012835, dat moet het budget van de opleiding nog net aankunnen."
   ]
  },
  {
   "cell_type": "markdown",
   "id": "0b7c6ba8-be6a-403b-97fd-6496de58c157",
   "metadata": {},
   "source": [
    "### GPT4All\n",
    "\n",
    "Je kan GPT4All als API draaien, zie de eerste les.\n",
    "\n",
    "Een alternatief is in Python een model instantiëren en bevragen, en om het leuk te maken lukt het met de huidige versie niet om GPT4All in docker te draaien. \n",
    "\n",
    "Maar goed, het model dient in de default cache folder te zitten, bvb. `/Users/pieter/.cache/gpt4all` (anders wordt het gedownload, maar dat zijn vele gigabytes, spaar het netwerk van de hogent een beetje) en dan is het instantiëren erg simpel. \n",
    "(het laden zal een paar minuutjes in beslag nemen)"
   ]
  },
  {
   "cell_type": "code",
   "execution_count": null,
   "id": "a560b16e-78d1-454e-b40d-38d1472221e8",
   "metadata": {
    "ExecuteTime": {
     "end_time": "2023-10-03T08:55:52.624032Z",
     "start_time": "2023-10-03T08:55:49.472259Z"
    }
   },
   "outputs": [
    {
     "name": "stdout",
     "output_type": "stream",
     "text": [
      "Found model file at  /Users/pieter/.cache/gpt4all/ggml-model-gpt4all-falcon-q4_0.bin\n",
      "falcon_model_load: loading model from '/Users/pieter/.cache/gpt4all/ggml-model-gpt4all-falcon-q4_0.bin' - please wait ...\n",
      "falcon_model_load: n_vocab   = 65024\n",
      "falcon_model_load: n_embd    = 4544\n",
      "falcon_model_load: n_head    = 71\n",
      "falcon_model_load: n_head_kv = 1\n",
      "falcon_model_load: n_layer   = 32\n",
      "falcon_model_load: ftype     = 2\n",
      "falcon_model_load: qntvr     = 0\n",
      "falcon_model_load: ggml ctx size = 3872.64 MB\n",
      "falcon_model_load: memory_size =    32.00 MB, n_mem = 65536\n",
      "falcon_model_load: ........................ done\n",
      "falcon_model_load: model size =  3872.59 MB / num tensors = 196\n"
     ]
    }
   ],
   "source": [
    "from gpt4all import GPT4All\n",
    "model = GPT4All(\"ggml-model-gpt4all-falcon-q4_0.bin\")"
   ]
  },
  {
   "cell_type": "markdown",
   "id": "b34d3e42-627f-41fd-82df-7c121dac265e",
   "metadata": {},
   "source": [
    "Een vraag stellen is dan niet meer dan gewoon een `generate` aan te roepen met je vraag (de API versie, zoals gezegd, imiteert die van OpenAI perfect, dus daar stuur je dezelfde messages array naar)"
   ]
  },
  {
   "cell_type": "code",
   "execution_count": null,
   "id": "f14a0179-5cde-40ec-95d4-753ec00bb1f3",
   "metadata": {
    "ExecuteTime": {
     "end_time": "2023-10-03T08:56:40.972506Z",
     "start_time": "2023-10-03T08:56:25.010696Z"
    }
   },
   "outputs": [
    {
     "name": "stdout",
     "output_type": "stream",
     "text": [
      ".\n",
      "Prompt engineering is a field of artificial intelligence (AI) that focuses on developing intelligent systems that can interact with humans in natural language and provide helpful responses to their questions or requests. It involves designing AI systems that are able to understand human language, generate appropriate responses based on the context of the conversation, and learn from interactions with users over time.\n",
      "\n",
      "Prompt engineering typically involves a combination of techniques from natural language processing (NLP), machine learning, and artificial intelligence. NLP focuses on developing algorithms for analyzing and generating text in natural language, while machine learning is used to train AI systems to recognize patterns and make predictions based on data. Artificial intelligence encompasses the broader field of AI research, which includes areas such as robotics, computer vision, and cognitive computing.\n",
      "\n",
      "Prompt engineering applications include chatbots, virtual assistants, voice-activated devices, and other intelligent systems that interact with humans in natural language. By developing these systems, researchers hope to create more efficient and effective ways\n"
     ]
    }
   ],
   "source": [
    "messages = [{\"role\": \"user\", \"content\": \"Ik zou graag meer leren over prompt engineering\"}]\n",
    "\n",
    "res = model.generate(messages[0][\"content\"])\n",
    "print(res)"
   ]
  },
  {
   "cell_type": "markdown",
   "id": "2b789512-ddf8-4643-9d0d-fee5070cd9b8",
   "metadata": {},
   "source": [
    "Zoals je kan zien is het antwoord veel minder goed. Dit lokaal gedraaide model slaagt er wel in om een vrij coherent antwoord te geven, maar zal veel sneller last hebben van 'hallucineren', als je weet waar het over gaat is het inhoudelijk vaak snel veel minder zinvol.\n",
    "\n",
    "Maar goed, geen credit card nodig en handig om te testen op zich, dus we gaan een helper functie schrijven die ons toelaat om makkelijk te wisselen tussen de echte OpenAI API en ons lokaal model via GPT4All."
   ]
  },
  {
   "cell_type": "code",
   "execution_count": null,
   "id": "2e70910d-8a8b-419a-886c-426bb223496c",
   "metadata": {
    "ExecuteTime": {
     "end_time": "2023-10-03T08:58:30.635617Z",
     "start_time": "2023-10-03T08:58:30.623713Z"
    }
   },
   "outputs": [],
   "source": [
    "def get_answer(prompt, local_model=False):\n",
    "    if local_model:\n",
    "        res = model.generate(prompt)\n",
    "        return res\n",
    "    else:\n",
    "        message = [{\"role\": \"user\", \"content\": prompt}]\n",
    "        res = openai.ChatCompletion.create(\n",
    "            model=\"gpt-3.5-turbo\",\n",
    "            messages=message\n",
    "        )\n",
    "        return res.choices[0].message[\"content\"]\n",
    "            \n",
    "        "
   ]
  },
  {
   "cell_type": "code",
   "execution_count": null,
   "id": "78bc8ddd-b84a-455d-ae60-03004154e86d",
   "metadata": {
    "ExecuteTime": {
     "end_time": "2023-10-03T08:58:46.257425Z",
     "start_time": "2023-10-03T08:58:42.586633Z"
    }
   },
   "outputs": [
    {
     "name": "stdout",
     "output_type": "stream",
     "text": [
      "local: \n",
      "\n",
      "Sure, here's a joke about prompt engineering:\n",
      "\n",
      "Why did the engineer quit his job?\n",
      "\n",
      "Because he couldn't handle the stress of deadlines!\n",
      "chatgpt: \n",
      "Why did the prompt engineering team start a band?\n",
      "\n",
      "Because they wanted to keep things in tune and \"prompt\"ly deliver a harmonious user experience!\n"
     ]
    }
   ],
   "source": [
    "print(\"local: \")\n",
    "print(get_answer(\"Tell me a joke about prompt engineering\", True))\n",
    "print(\"chatgpt: \")\n",
    "print(get_answer(\"Tell me a joke about prompt engineering\"))"
   ]
  },
  {
   "cell_type": "markdown",
   "id": "8dc28d0d-f2ce-41b0-bcdd-3c347f0e59c2",
   "metadata": {},
   "source": [
    "## principes\n",
    "\n"
   ]
  },
  {
   "cell_type": "markdown",
   "id": "c0b485fd-aa92-4573-8d20-0c972b83074d",
   "metadata": {},
   "source": [
    "![chatgpt_summary.jpg](img/chatgpt_summary.jpg)\n"
   ]
  },
  {
   "cell_type": "markdown",
   "id": "952942d1-1acc-4f86-973d-ce0e08816a2c",
   "metadata": {},
   "source": [
    "\n",
    "De voorbeelden (en prompts) zullen soms in het Engels zijn, hoewel Nederlands vaak redelijk werkt, zijn de resultaten toch veel betrouwbaarder en nuttiger in het Engels. Zowel bij ChatGPT 3.5, maar vooral bij GPT4All als we lokaal draaien.\n",
    "\n",
    "### principe 1: gebruik scheidingstekens\n",
    "\n",
    "Gebruik scheidingstekens om bepaalde delen van de vraag duidelijk af te bakenen, scheidingstekens zijn bvb. ``` of \"\"\" of <><>\n"
   ]
  },
  {
   "cell_type": "code",
   "execution_count": null,
   "id": "99ba1587-5d7c-4898-845a-c217cfa07362",
   "metadata": {
    "ExecuteTime": {
     "end_time": "2023-10-03T09:00:36.579098Z",
     "start_time": "2023-10-03T09:00:33.951211Z"
    }
   },
   "outputs": [
    {
     "name": "stdout",
     "output_type": "stream",
     "text": [
      "Prompt engineering is a new discipline that involves tailoring questions asked to language models like ChatGPT in order to improve the usability and reliability of the answers, and although the field is still evolving, there are already some principles established on how to achieve better results from these models.\n"
     ]
    }
   ],
   "source": [
    "text = f\"\"\"\n",
    "Prompt engineering is tinkering with the question \\\n",
    "(the prompt) you ask LLMs so that you get a better answer. \n",
    "\n",
    "It soon became apparent that with ChatGPT etc., the usability \\\n",
    "and reliability of the answer can be greatly improved by asking \\\n",
    "the question in a certain way. A new discipline was thus born: \\\n",
    "prompt engineering. \n",
    "\n",
    "The interest in this is very new, and as the models mature more \\\n",
    "and more consensus of what \"best practices\" are will emerge here \\\n",
    "as well, but we can already establish some principles on how to \\\n",
    "get better results from these models, depending on what you are \\\n",
    "trying to achieve. \n",
    "The chances that this chapter will be the same \\\n",
    "next year (or even by the end of the semester) are pretty slim, \\\n",
    "this area of research is changing very quickly.\n",
    "\"\"\"\n",
    "\n",
    "prompt = f\"\"\"\n",
    "Summarize the text delimited by triple backticks into a single sentence \\\n",
    "```{text}```\n",
    "\"\"\"\n",
    "\n",
    "res = get_answer(prompt)\n",
    "print(res)"
   ]
  },
  {
   "cell_type": "markdown",
   "id": "b874c482-28b1-4196-b82a-a5fe2b8a1d7a",
   "metadata": {},
   "source": [
    "### principe 2: vraag gestructureerde output\n",
    "\n",
    "LLM's hebben een goede notie van hoe correcte JSON (of zelfs HTML) er uit ziet, door een skelet van de gevraagde output te voorzien kan je veel beter gestructureerde output krijgen (die je dan weer veel vlotter kan verwerken met volgende prompts of in andere code)"
   ]
  },
  {
   "cell_type": "code",
   "execution_count": null,
   "id": "7509d1b1-0422-4dfc-8ec4-03f2640f3c5c",
   "metadata": {
    "ExecuteTime": {
     "end_time": "2023-10-03T09:02:47.555912Z",
     "start_time": "2023-10-03T09:02:44.635194Z"
    }
   },
   "outputs": [
    {
     "name": "stdout",
     "output_type": "stream",
     "text": [
      "[\n",
      "  {\n",
      "    \"transaction_id\": \"12345\",\n",
      "    \"amount\": 500,\n",
      "    \"date\": \"2022-01-15\",\n",
      "    \"place\": \"Grocery Store\"\n",
      "  },\n",
      "  {\n",
      "    \"transaction_id\": \"67890\",\n",
      "    \"amount\": 1000,\n",
      "    \"date\": \"2022-01-18\",\n",
      "    \"place\": \"Shopping Mall\"\n",
      "  },\n",
      "  {\n",
      "    \"transaction_id\": \"54321\",\n",
      "    \"amount\": 250,\n",
      "    \"date\": \"2022-01-20\",\n",
      "    \"place\": \"Coffee Shop\"\n",
      "  }\n",
      "]\n"
     ]
    }
   ],
   "source": [
    "prompt = f\"\"\"\n",
    "Generate an array of three bank transactions, provide them in JSON format \\\n",
    "with the following keys: transaction_id, amount, date, place \\ \n",
    "Only output the json object\n",
    "\"\"\"\n",
    "\n",
    "res = get_answer(prompt)\n",
    "json_data = res\n",
    "print(res)"
   ]
  },
  {
   "cell_type": "markdown",
   "id": "82442f488c987b4b",
   "metadata": {
    "collapsed": false
   },
   "source": [
    "### principe 3: laat het model een rol aannemen\n",
    "\n",
    "Door een specifieke rol toe te wijzen aan het model, krijg je vaak veel kwaliteitsvollere antwoorden."
   ]
  },
  {
   "cell_type": "code",
   "execution_count": null,
   "id": "d7035bf09d27d34f",
   "metadata": {
    "ExecuteTime": {
     "end_time": "2023-10-03T09:06:08.086781Z",
     "start_time": "2023-10-03T09:06:03.325300Z"
    },
    "collapsed": false
   },
   "outputs": [
    {
     "name": "stdout",
     "output_type": "stream",
     "text": [
      "```javascript\n",
      "const http = require('http');\n",
      "\n",
      "const server = http.createServer((req, res) => {\n",
      "  if (req.url === '/transactions' && req.method === 'GET') {\n",
      "    res.setHeader('Content-Type', 'application/json');\n",
      "    const transactions = [\n",
      "      {\n",
      "        transaction_id: \"12345\",\n",
      "        amount: 500,\n",
      "        date: \"2022-01-15\",\n",
      "        place: \"Grocery Store\"\n",
      "      },\n",
      "      {\n",
      "        transaction_id: \"67890\",\n",
      "        amount: 1000,\n",
      "        date: \"2022-01-18\",\n",
      "        place: \"Shopping Mall\"\n",
      "      },\n",
      "      {\n",
      "        transaction_id: \"54321\",\n",
      "        amount: 250,\n",
      "        date: \"2022-01-20\",\n",
      "        place: \"Coffee Shop\"\n",
      "      }\n",
      "    ];\n",
      "    res.end(JSON.stringify(transactions));\n",
      "  } else {\n",
      "    res.statusCode = 404;\n",
      "    res.end();\n",
      "  }\n",
      "});\n",
      "\n",
      "server.listen(3000, () => {\n",
      "  console.log('Server is running on port 3000');\n",
      "});\n",
      "```\n"
     ]
    }
   ],
   "source": [
    "prompt = f\"\"\"\n",
    "You're an expert JavaScript Developer. Construct a GET request handler which returns a json in the following format ```{json_data}``` when requesting the path /transactions using NodeJs.\n",
    "only output the code without formatting\n",
    "\"\"\"\n",
    "\n",
    "response = get_answer(prompt)\n",
    "code = response;\n",
    "print(response)"
   ]
  },
  {
   "cell_type": "markdown",
   "id": "121ff14d271c48f5",
   "metadata": {
    "collapsed": false
   },
   "source": [
    "### oefening\n",
    "\n",
    "1. Creëer een prompt  die een databank schema genereert zodat het bovenstaande json formaat kan opgeslaan worden in een SQLite databank.\n",
    "2. Creëer vervolgens een prompt die als datalayer van een NodeJs die data ophaalt.\n",
    "3. En laat de LLM als laatste de door mij gegenereerde JavaScript code aanpassen zodat deze datalayer gebruikt wordt. "
   ]
  },
  {
   "cell_type": "code",
   "execution_count": null,
   "id": "15d89b63cd173559",
   "metadata": {
    "ExecuteTime": {
     "end_time": "2023-10-03T09:25:46.533181Z",
     "start_time": "2023-10-03T09:25:38.123186Z"
    },
    "collapsed": false
   },
   "outputs": [
    {
     "name": "stdout",
     "output_type": "stream",
     "text": [
      "Het bovenstaande codefragment is een Node.js HTTP-server die een JSON-array van transacties retourneert wanneer een GET-verzoek naar de URL \"/transactions\" wordt gemaakt.\n",
      "\n",
      "Om een SQLite-databaseschema te maken op basis van de JSON-gegevens, moeten we de structuur van de JSON begrijpen. Het lijkt erop dat elke transactie objecteigenschappen heeft zoals \"transaction_id\", \"amount\", \"date\" en \"place\". We kunnen deze eigenschappen gebruiken om de tabellen en kolommen van het SQLite-schema te maken.\n",
      "\n",
      "Hier is een voorbeeld van een SQLite-databaseschema op basis van de JSON-gegevens:\n",
      "\n",
      "```sql\n",
      "CREATE TABLE transactions (\n",
      "  transaction_id TEXT PRIMARY KEY,\n",
      "  amount INTEGER,\n",
      "  date TEXT,\n",
      "  place TEXT\n",
      ");\n",
      "```\n",
      "\n",
      "Het bovenstaande SQL-script maakt een tabel genaamd \"transactions\" met vier kolommen, namelijk \"transaction_id\", \"amount\", \"date\" en \"place\". De \"transaction_id\" kolom wordt gedefinieerd als een teksttype en ingesteld als de primaire sleutel. De \"amount\", \"date\" en \"place\" kolommen zijn ook gedefinieerd als teksttypes.\n",
      "\n",
      "U kunt dit SQL-script gebruiken om de SQLite-database en de \"transactions\" tabel te maken. Vervolgens kunt u de JSON-gegevens gebruiken om de tabel in te vullen met behulp van INSERT-opdrachten.\n",
      "\n",
      "Het is belangrijk om op te merken dat het bovenstaande SQLite-databaseschema een vereenvoudigde weergave is die alleen rekening houdt met de gegeven JSON-gegevens. In een echte toepassing kunnen er meer tabellen en kolommen zijn om aan de vereisten te voldoen.\n"
     ]
    }
   ],
   "source": [
    "prompt = f\"\"\"Creeer een SQLite databank schema van onderstaande json data ```{code}```\"\"\"\n",
    "\n",
    "response = get_answer(prompt)\n",
    "print (response)\n"
   ]
  },
  {
   "cell_type": "code",
   "execution_count": null,
   "id": "9c66ed27cc9cf704",
   "metadata": {
    "ExecuteTime": {
     "end_time": "2023-10-03T09:29:42.501977Z",
     "start_time": "2023-10-03T09:29:32.654119Z"
    },
    "collapsed": false
   },
   "outputs": [
    {
     "name": "stdout",
     "output_type": "stream",
     "text": [
      "Om een datalaag te maken in Node.js die gegevens ophaalt uit een database, moet je een databasebibliotheek installeren, zoals `pg` voor PostgreSQL-database.\n",
      "\n",
      "Om te beginnen, installeer de `pg`-bibliotheek met npm:\n",
      "\n",
      "```\n",
      "npm install pg\n",
      "```\n",
      "\n",
      "Vervolgens kun je de volgende code gebruiken om de datalaag te maken:\n",
      "\n",
      "```javascript\n",
      "const http = require('http');\n",
      "const { Client } = require('pg');\n",
      "\n",
      "// Maak een nieuwe databaseclient\n",
      "const client = new Client({\n",
      "  user: 'database_user',\n",
      "  host: 'localhost',\n",
      "  database: 'database_name',\n",
      "  password: 'database_password',\n",
      "  port: 5432,\n",
      "});\n",
      "\n",
      "// Maak verbinding met de database\n",
      "client.connect();\n",
      "\n",
      "const server = http.createServer((req, res) => {\n",
      "  if (req.url === '/transactions' && req.method === 'GET') {\n",
      "    res.setHeader('Content-Type', 'application/json');\n",
      "\n",
      "    // Query om transacties op te halen\n",
      "    const query = 'SELECT * FROM transactions';\n",
      "\n",
      "    // Voer de query uit\n",
      "    client.query(query, (err, result) => {\n",
      "      if (err) {\n",
      "        console.error('Fout bij het uitvoeren van query', err);\n",
      "        res.statusCode = 500;\n",
      "        res.end();\n",
      "        return;\n",
      "      }\n",
      "\n",
      "      // Resultaat omzetten naar het gewenste formaat\n",
      "      const transactions = result.rows.map(row => ({\n",
      "        transaction_id: row.transaction_id,\n",
      "        amount: row.amount,\n",
      "        date: row.date,\n",
      "        place: row.place,\n",
      "      }));\n",
      "\n",
      "      // Stuur het resultaat terug naar de client\n",
      "      res.end(JSON.stringify(transactions));\n",
      "    });    \n",
      "  } else {\n",
      "    res.statusCode = 404;\n",
      "    res.end();\n",
      "  }\n",
      "});\n",
      "\n",
      "server.listen(3000, () => {\n",
      "  console.log('Server is running on port 3000');\n",
      "});\n",
      "```\n",
      "\n",
      "Zorg ervoor dat je de juiste waarden voor `user`, `host`, `database`, `password` en `port` opgeeft in de `Client`-constructor om verbinding te maken met je database.\n",
      "\n",
      "Deze code maakt een nieuwe client, maakt verbinding met de database en voert vervolgens een query uit om de transacties op te halen vanuit de database. Het resultaat wordt vervolgens omgezet naar het gewenste formaat en teruggestuurd naar de client.\n",
      "\n",
      "Opmerking: zorg ervoor dat je het juiste databaseverbindingsinformatie gebruikt en controleer de documentatie van de `pg`-bibliotheek voor meer informatie over hoe je verbinding kunt maken en query's kunt uitvoeren met verschillende databases.\n"
     ]
    }
   ],
   "source": [
    "prompt = f\"\"\"\n",
    "Creëer een datalayer met NodeJs die data ophaalt uit een databank gecreeerd met het volgende schema ```CREATE TABLE transactions (\n",
    "  transaction_id TEXT PRIMARY KEY,\n",
    "  amount INTEGER,\n",
    "  date TEXT,\n",
    "  place TEXT\n",
    ");```. Verander de code tussen triple backticks ```{code}```\n",
    "\"\"\"\n",
    "\n",
    "response = get_answer(prompt)\n",
    "print (response)"
   ]
  },
  {
   "cell_type": "markdown",
   "id": "16f883cb-ceb8-4982-94a2-f64aa4abf30b",
   "metadata": {},
   "source": [
    "### principe 4: laat het model zijn eigen oplossing uitwerken alvorens een conclusie te trekken\n",
    "\n",
    "Dit deel door GPT4All laten beantwoorden geeft vrij belabberde resultaten, dus enkel via ChatGPT"
   ]
  },
  {
   "cell_type": "code",
   "execution_count": null,
   "id": "c6eb0260-d237-46d1-8a85-442179d827b5",
   "metadata": {
    "ExecuteTime": {
     "end_time": "2023-10-03T09:33:45.319510Z",
     "start_time": "2023-10-03T09:33:43.057538Z"
    }
   },
   "outputs": [
    {
     "name": "stdout",
     "output_type": "stream",
     "text": [
      "De oplossing van de student is correct.\n",
      "De totale kosten worden berekend door de kosten van de grond, bouwkosten en bewakingsfirma bij elkaar op te tellen.\n",
      "In dit geval is de totale kost 450x + 5000.\n"
     ]
    }
   ],
   "source": [
    "\n",
    "prompt = f\"\"\"\n",
    "Bepaal of het antwoord van de student correct is of niet.\n",
    "\n",
    "Vraag:\n",
    "Er wordt een opslagplaats gebouwd, de bouwkost wordt geraamd op €150 \\\n",
    "per vierkante meter.\n",
    "De grond zelf kost €200 per vierkante meter\n",
    "Het contract om het gebouw te bewaken is eenmalig €5000 en \\\n",
    "daarbovenop €10 per vierkante meter per jaar.\n",
    "\n",
    "Hoeveel kost het gebouw mij het eerste jaar?\n",
    "\n",
    "Oplossing van de student:\n",
    "Stel dat x het aantal vierkante meter is\n",
    "Kost van de grond: 200x\n",
    "Bouwkost: 150x\n",
    "Bewakingsfirma: 5000 + 100x\n",
    "Totale kost: 200x + 150x + 5000 + 100x = 450x + 5000\n",
    "\"\"\"\n",
    "response = get_answer(prompt)\n",
    "print(response)"
   ]
  },
  {
   "cell_type": "markdown",
   "id": "93b2c940-6532-44c1-9cc7-d4d983aedf36",
   "metadata": {},
   "source": [
    "Merk op dat het antwoord van de student helemaal niet correct is, er is een (typ?)fout in de redenering, de bewakingsfirma kost 5000+10x, niet 5000+100x\n",
    "\n",
    "We kunnen hier betere resultaten bekomen door het model eerst zelf een volledige oplossing te laten uitwerken en dan het resultaat te vergelijken."
   ]
  },
  {
   "cell_type": "code",
   "execution_count": null,
   "id": "897cb3b1-9443-403e-a0d0-778a18eba5a2",
   "metadata": {
    "ExecuteTime": {
     "end_time": "2023-10-03T09:36:39.046620Z",
     "start_time": "2023-10-03T09:36:35.123806Z"
    }
   },
   "outputs": [
    {
     "name": "stdout",
     "output_type": "stream",
     "text": [
      "Uitgewerkte oplossing:\n",
      "\n",
      "Kost van de grond = €200 * x vierkante meter\n",
      "Bouwkost = €150 * x vierkante meter\n",
      "Bewakingsfirma = €5000 + €10 * x vierkante meter\n",
      "\n",
      "Totale kost = Kost van de grond + Bouwkost + Bewakingsfirma\n",
      "                      = (€200 * x) + (€150 * x) + (€5000 + €10 * x)\n",
      "\n",
      "is de oplossing van de student dezelfde als die van jou? Nee, de student heeft vergeten de kosten van de grond in zijn berekening mee te nemen.\n"
     ]
    }
   ],
   "source": [
    "\n",
    "prompt = f\"\"\"\n",
    "Bepaal of het antwoord van de student correct is of niet.\n",
    "\n",
    "Om dit te bepalen moet je de volgende stappen ondernemen:\n",
    "- Werk eerst zelf de volledige oplossing uit\n",
    "- Vergelijk vervolgens jouw antwoord met dat van de student om \\\n",
    "te kijken of de student zijn antwoord correct is of niet\n",
    "Bepaal niet of het antwoord van de student correct is alvorens \\ \n",
    "je de oplossing volledig uitgewerkt hebt.\n",
    "\n",
    "Geef als uitvoer jouw uitgewerkte oplossing, gevolgd door \\\n",
    "het antwoord op de vraag: \"is de oplossing van de student dezelfde als die van jou\"\n",
    "\n",
    "Vraag:\n",
    "Er wordt een opslagplaats gebouwd, de bouwkost wordt geraamd op €150 \\\n",
    "per vierkante meter.\n",
    "De grond zelf kost €200 per vierkante meter\n",
    "Het contract om het gebouw te bewaken is eenmalig €5000 en \\\n",
    "daarbovenop €10 per vierkante meter per jaar.\n",
    "\n",
    "Hoeveel kost het gebouw mij het eerste jaar?\n",
    "\n",
    "Oplossing van de student:\n",
    "Stel dat x het aantal vierkante meter is\n",
    "Kost van de grond: 200x\n",
    "Bouwkost: 150x\n",
    "Bewakingsfirma: 5000 + 100x\n",
    "Totale kost: 200x + 150x + 5000 + 100x = 450x + 5000\n",
    "\"\"\"\n",
    "response = get_answer(prompt)\n",
    "print(response)"
   ]
  },
  {
   "cell_type": "markdown",
   "id": "7ec445ae-1d67-4380-b555-716574bd3af4",
   "metadata": {},
   "source": [
    "Los van de grammaticale fout in het antwoord dat bij mij gegenereerd werd is de conclusie nu wel juist."
   ]
  },
  {
   "cell_type": "markdown",
   "id": "ac53bb21-ab5d-4e30-b564-1245715109a0",
   "metadata": {},
   "source": [
    "### principe 5: prompts iteratief verbeteren\n",
    "\n",
    "Als je prompts ontwerpt om dingen (programmatorisch) te bereiken met LLM's, zal je zelden van de eerste keer het resultaat bekomen dat je voor ogen had.\n",
    "Het loont om de prompts iteratief te verbeteren, preciezer te maken in wat je wenst door de instructies te verscherpen, tot je het gewenste resultaat, in het gewenste formaat bereikt.\n"
   ]
  },
  {
   "cell_type": "markdown",
   "id": "46709165-6b03-4d4d-8ac7-80be2623ec1c",
   "metadata": {},
   "source": [
    "#### te lange output"
   ]
  },
  {
   "cell_type": "code",
   "execution_count": null,
   "id": "a6435fbc-386a-4f54-b1f5-d92197945a04",
   "metadata": {
    "ExecuteTime": {
     "end_time": "2023-10-03T09:38:58.504925Z",
     "start_time": "2023-10-03T09:38:40.291458Z"
    }
   },
   "outputs": [
    {
     "name": "stdout",
     "output_type": "stream",
     "text": [
      "Title: Unlock the Future with 'Trends in AI' - Exploring the Revolutionary World of Artificial Intelligence\n",
      "\n",
      "Introduction:\n",
      "Welcome to the University College of Ghent, where innovation meets intellectual brilliance. Immerse yourself in the captivating realm of artificial intelligence (AI) through our cutting-edge course, 'Trends in AI.' Designed to equip students with foundational knowledge and practical skills, this course offers an unparalleled opportunity to explore and embrace the transformative power of AI.\n",
      "\n",
      "Course Overview:\n",
      "'Trends in AI' is a comprehensive exploration of the rapidly evolving field of artificial intelligence. From its fundamental principles to advanced applications, this course delves into the exciting world where human ingenuity intersects with machine intelligence. Combining theoretical knowledge with hands-on experiences, students develop the necessary skillset to leverage AI across various domains.\n",
      "\n",
      "Key Highlights:\n",
      "1. Introduction to AI: Gain a deep understanding of AI concepts, including machine learning, neural networks, and natural language processing. Unearth the underlying principles that drive AI algorithms and their real-world applications.\n",
      "2. Emerging Trends: Stay ahead of the curve as we unravel the latest trends in AI, such as deep learning, computer vision, and robotics. Discover how these innovations are reshaping industries and creating new possibilities.\n",
      "3. Ethical Considerations: Engage in thought-provoking discussions surrounding the ethical implications of AI. Examine issues like bias, privacy, and accountability, gaining the tools to navigate the potential pitfalls of AI implementation.\n",
      "4. Practical Applications: Put theory into practice through hands-on projects and case studies. Develop AI models, work with state-of-the-art tools and explore real-world datasets. Cultivate problem-solving skills necessary for AI implementation in diverse domains.\n",
      "5. Industry Insights: Benefit from guest lectures and workshops led by leading experts in the AI field. Gain valuable insights into industry best practices, real-world challenges, and career opportunities within the AI landscape.\n",
      "6. Capstone Project: Culminate your learning journey with a challenging capstone project. Apply your acquired knowledge in a practical scenario, showcasing your ability to think critically, solve complex problems, and drive innovation using AI.\n",
      "\n",
      "Why Take 'Trends in AI'?\n",
      "1. Relevance: AI is transforming industries worldwide, and 'Trends in AI' prepares you to thrive in this rapidly evolving landscape. Equip yourself with the skills demanded by future employers across a multitude of sectors.\n",
      "2. In-Demand Expertise: AI professionals are highly sought after, with careers in cutting-edge technologies, research, consulting, and even entrepreneurship. Gain a competitive edge in the job market by mastering the foundations of AI.\n",
      "3. Interdisciplinary Nature: 'Trends in AI' is designed for students from diverse academic backgrounds. Whether you are studying computer science, engineering, business, healthcare, or design, this course provides a cross-disciplinary exploration of AI's applications.\n",
      "4. Practical Skill Development: Navigate the realm of AI through hands-on projects, ensuring you are equipped with the practical knowledge to turn theory into impactful solutions. Build a strong portfolio showcasing real-world AI applications.\n",
      "5. Future-Proofing: The application of AI will continue to expand exponentially. By understanding the trends and implications, you position yourself as an adaptive and future-proof professional, ready to embrace AI's transformative potential.\n",
      "\n",
      "Conclusion:\n",
      "Don't miss the opportunity to join our 'Trends in AI' course and make your mark on the dynamic world of artificial intelligence. With a uniquely designed curriculum, hands-on experiences, and expert faculty, we invite you to uncover the limitless possibilities AI offers. Enroll today and unlock a future brimming with endless opportunities!\n"
     ]
    }
   ],
   "source": [
    "prompt = f\"\"\"\n",
    "You're tasked to help the university college \\\n",
    "of ghent write a marketing piece for their \\\n",
    "website to promote the new course 'Trends in AI'\n",
    "\n",
    "Describe the contents of the course and why it's \\\n",
    "really interesting for students to take this course\n",
    "\"\"\"\n",
    "\n",
    "res = get_answer(prompt)\n",
    "print(res)"
   ]
  },
  {
   "cell_type": "code",
   "execution_count": null,
   "id": "eece1b96-9518-4200-8185-4db501b25425",
   "metadata": {
    "ExecuteTime": {
     "end_time": "2023-10-03T09:40:15.061157Z",
     "start_time": "2023-10-03T09:40:13.552057Z"
    }
   },
   "outputs": [
    {
     "name": "stdout",
     "output_type": "stream",
     "text": [
      "Explore cutting-edge applications of artificial intelligence and learn to analyze emerging trends. Gain a competitive edge in the digital era.\n"
     ]
    }
   ],
   "source": [
    "prompt = f\"\"\"\n",
    "You're tasked to help the university college \\\n",
    "of ghent write a marketing piece for their \\\n",
    "website to promote the new course 'Trends in AI'\n",
    "\n",
    "Describe the contents of the course and why it's \\\n",
    "really interesting for students to take this course\n",
    "\n",
    "Use at most 25 words.\n",
    "\"\"\"\n",
    "\n",
    "res = get_answer(prompt)\n",
    "print(res)"
   ]
  },
  {
   "cell_type": "markdown",
   "id": "20007df6-a52c-40c0-8ce5-c2b2ca476589",
   "metadata": {},
   "source": [
    "#### verkeerd doelpubliek"
   ]
  },
  {
   "cell_type": "code",
   "execution_count": null,
   "id": "5402bf5b-8774-4aae-aa62-d58740c2a242",
   "metadata": {
    "ExecuteTime": {
     "end_time": "2023-10-03T09:41:38.937718Z",
     "start_time": "2023-10-03T09:41:37.669516Z"
    }
   },
   "outputs": [
    {
     "name": "stdout",
     "output_type": "stream",
     "text": [
      "\"Discover the latest advancements in Artificial Intelligence in our new course. Gain insights, practical skills, and be at the forefront of innovation.\"\n"
     ]
    }
   ],
   "source": [
    "prompt = f\"\"\"\n",
    "You're tasked to help the university college \\\n",
    "of ghent write a marketing piece for their \\\n",
    "website to promote the new course 'Trends in AI'\n",
    "\n",
    "Describe the contents of the course and why it's \\\n",
    "really interesting for students to take this course\n",
    "\n",
    "Use at most 25 words, the description is intended for future students\n",
    "\"\"\"\n",
    "\n",
    "res = get_answer(prompt)\n",
    "print(res)"
   ]
  },
  {
   "cell_type": "markdown",
   "id": "9d86bba7-be73-4130-8b09-af9a181b4363",
   "metadata": {},
   "source": [
    "#### verkeerd formaat"
   ]
  },
  {
   "cell_type": "code",
   "execution_count": null,
   "id": "a36d4f19-e0f1-4334-9603-a999db3fc942",
   "metadata": {
    "ExecuteTime": {
     "end_time": "2023-10-03T09:42:00.435737Z",
     "start_time": "2023-10-03T09:41:58.751435Z"
    }
   },
   "outputs": [
    {
     "name": "stdout",
     "output_type": "stream",
     "text": [
      "Discover the cutting-edge world of artificial intelligence at University College of Ghent! Explore emerging trends and unlock limitless career opportunities. #AI #future #education\n"
     ]
    }
   ],
   "source": [
    "prompt = f\"\"\"\n",
    "You're tasked to help the university college \\\n",
    "of ghent write a marketing piece for their \\\n",
    "website to promote the new course 'Trends in AI'\n",
    "\n",
    "Describe the contents of the course and why it's \\\n",
    "really interesting for students to take this course\n",
    "\n",
    "Use at most 25 words, the description is intended for future students, end with some relevant hashtags\n",
    "\"\"\"\n",
    "\n",
    "res = get_answer(prompt)\n",
    "print(res)"
   ]
  },
  {
   "cell_type": "markdown",
   "id": "11653118-aae5-4eed-a5d1-e9e05d0d8409",
   "metadata": {},
   "source": [
    "### principe 6: samenvattingen\n",
    "\n",
    "LLM's zijn vrij goed in het samenvatten van grote(re) stukken tekst, maar je kan mits wat bijsturen de output vaak sterk verbeteren."
   ]
  },
  {
   "cell_type": "code",
   "execution_count": null,
   "id": "fa7cfd26-5a5d-4233-aa75-3263e6dca13a",
   "metadata": {
    "ExecuteTime": {
     "end_time": "2023-10-03T09:43:42.494140Z",
     "start_time": "2023-10-03T09:43:42.482826Z"
    }
   },
   "outputs": [],
   "source": [
    "text = f\"\"\"\n",
    "wat\n",
    "\n",
    "Prompt engineering is het sleutelen aan de vraag (de prompt) \\\n",
    "die je aan LLM's stelt zodat je een beter antwoord krijgt.\n",
    "\n",
    "Er bleek al snel dat bij ChatGPT e.d. de bruikbaarheid en \\\n",
    "betrouwbaarheid van het antwoord sterk kan verbeterd worden \\\n",
    "door de vraag op een bepaalde manier te stellen. Er onstond \\\n",
    "zo een nieuwe discipline: prompt engineering.\n",
    "\n",
    "De interesse hierin is zeer nieuw, en naarmate de modellen \\\n",
    "matuurder worden zal hier ook meer en meer consensus ontstaan \\\n",
    "van wat \"best practices\" zijn, maar we kunnen toch al een \\\n",
    "aantal principes opstellen over hoe je betere resultaten \\\n",
    "krijgt uit deze modellen, afhankelijk van wat je probeert \\\n",
    "te bereiken. De kans dat dit hoofdstuk volgend jaar (of zelfs \\\n",
    "tegen het einde van het semester) hetzelfde is, is vrij gering, \\\n",
    "dit onderzoeksdomein wijzigt zeer snel.\n",
    "\n",
    "setup\n",
    "\n",
    "We gaan met de OpenAI API connecteren, hiervoor heb je een OpenAI \\\n",
    "API key nodig, en een account bij OpenAI. De eerste €18 zijn gratis, \\\n",
    "maar je bent ook sowieso in tijd beperkt. (of je de €18 nu opgebruikt \\\n",
    "of niet, na drie maanden is de API niet langer gratis)\n",
    "\n",
    "Om dit een beetje te duiden, je betaalt bij ChatGPT per 'token'. ChatGPT \\\n",
    "(en andere LLM's) genereren hun teksten in stukjes die we tokens noemen. \\\n",
    "Het hangt van de taal af, maar bij Engels en Nederlands komen tokens min \\\n",
    "of meer overeen met het aantal lettergrepen. Je betaalt zowel voor tokens \\\n",
    "in de vraag als in het antwoord aan een €0.002 per 1000 tokens. Je €18 is \\\n",
    "dus goed voor 9.000.000 tokens. Om wat in de les (en thuis) manueel mee te \\\n",
    "prutsen zal dit ruimschoots voldoende zijn, maar als je dit 'echt' gebruikt \\\n",
    "in geautomatiseerde processen best je verbruik goed in het oog houden.\n",
    "\n",
    "Een alternatief is lokaal GPT4All draaien, die dezelfde API nabootst. De \\\n",
    "antwoorden zijn minder goed, maar het is wel altijd volledig gratis natuurlijk, \\\n",
    "dus zeker om alles op te zetten en te testen een aantrekkelijke optie. Ergens in \\\n",
    "juni werkte dit goed, begin september na een update kreeg ik het niet meer aan de \\\n",
    "praat op mijn macbook, hopelijk weer wel tegen dat jullie deze les krijgen. Maar \\\n",
    "los van de API draaien zijn er nog Python bindings, die wel werken, zie verder.\n",
    "\n",
    "\"\"\""
   ]
  },
  {
   "cell_type": "code",
   "execution_count": null,
   "id": "e394b629-cd2b-4bd9-b35a-7a3c89763348",
   "metadata": {
    "ExecuteTime": {
     "end_time": "2023-10-03T09:43:49.487589Z",
     "start_time": "2023-10-03T09:43:46.216386Z"
    }
   },
   "outputs": [
    {
     "name": "stdout",
     "output_type": "stream",
     "text": [
      "Prompt engineering involves manipulating the question (prompt) asked to an LLM to obtain better answers. It is a new discipline with evolving best practices. Using the OpenAI API incurs costs per token, but there are alternatives like running GPT4All locally.\n"
     ]
    }
   ],
   "source": [
    "prompt = f\"\"\"\n",
    "Summarize the text below, delimited by triple backticks, use at most 30 words\n",
    "\n",
    "```{text}```\n",
    "\"\"\"\n",
    "\n",
    "res = get_answer(prompt)\n",
    "print(res)"
   ]
  },
  {
   "cell_type": "code",
   "execution_count": null,
   "id": "47a4d7d0-5a93-4cbe-afa8-3394332453f5",
   "metadata": {
    "ExecuteTime": {
     "end_time": "2023-10-03T09:44:51.219068Z",
     "start_time": "2023-10-03T09:44:49.698999Z"
    }
   },
   "outputs": [
    {
     "name": "stdout",
     "output_type": "stream",
     "text": [
      "Prompt engineering involves optimizing the question prompt to obtain better results. The cost to the student using ChatGPT is based on the number of tokens used, with the first €18 free but limited by time. An alternative is running GPT4All locally for free but with lower-quality results.\n"
     ]
    }
   ],
   "source": [
    "prompt = f\"\"\"\n",
    "Summarize the text below, delimited by triple backticks, use at most 30 words, focus on the cost to the student.\n",
    "\n",
    "```{text}```\n",
    "\"\"\"\n",
    "\n",
    "res = get_answer(prompt)\n",
    "print(res)"
   ]
  },
  {
   "cell_type": "code",
   "execution_count": null,
   "id": "9dc6f111-573e-4f6e-9fd7-130fb2a25f25",
   "metadata": {
    "ExecuteTime": {
     "end_time": "2023-10-03T09:45:11.502954Z",
     "start_time": "2023-10-03T09:45:08.783871Z"
    }
   },
   "outputs": [
    {
     "name": "stdout",
     "output_type": "stream",
     "text": [
      "The text discusses prompt engineering, a new discipline that focuses on improving the usefulness and reliability of answers generated by language models like ChatGPT through modifying the prompts. It also mentions the novelty and rapid evolution of the field. Additionally, it provides information on using the OpenAI API and the cost associated with using tokens. An alternative option is using a locally-run GPT4All, which is free but has slightly less accurate answers.\n"
     ]
    }
   ],
   "source": [
    "prompt = f\"\"\"\n",
    "Summarize the text below, delimited by triple backticks, use at most 30 words, focus on the novelty of the field.\n",
    "\n",
    "```{text}```\n",
    "\"\"\"\n",
    "\n",
    "res = get_answer(prompt)\n",
    "print(res)"
   ]
  },
  {
   "cell_type": "code",
   "execution_count": null,
   "id": "2506d1f1-a056-4aa9-8cca-29de549c4bb5",
   "metadata": {
    "ExecuteTime": {
     "end_time": "2023-10-03T09:45:58.463191Z",
     "start_time": "2023-10-03T09:45:55.278419Z"
    }
   },
   "outputs": [
    {
     "name": "stdout",
     "output_type": "stream",
     "text": [
      "- Prompt engineering is the process of improving the usefulness and reliability of answers from language models.\n",
      "- The cost of using the OpenAI API for ChatGPT is based on the number of tokens used in both the question and answer.\n",
      "- The first €18 is free, but after three months, the API is no longer free.\n",
      "- The cost is €0.002 per 1000 tokens.\n",
      "- Using GPT4All locally is a free alternative with less accurate answers.\n",
      "- Python bindings are also available for use.\n"
     ]
    }
   ],
   "source": [
    "prompt = f\"\"\"\n",
    "Summarize the text below, delimited by triple backticks, use at most 30 words, focus on the cost, use bullet points to make the cost clear.\n",
    "\n",
    "```{text}```\n",
    "\"\"\"\n",
    "\n",
    "res = get_answer(prompt)\n",
    "print(res)"
   ]
  },
  {
   "cell_type": "markdown",
   "id": "887c1f01ebf94890",
   "metadata": {
    "collapsed": false
   },
   "source": [
    "### oefening\n",
    "\n",
    "1. Creëer een prompt die de uitleg over LLM's van vorige week samenvat.\n",
    "2. Vervolgens willen we suggesties over hoe de uitleg kan verbeterd worden, en later ook uitgediept.\n",
    "3. Daarnaast een prompt die alle schrijffouten eruit haalt, we willen enkel de tekst zonder schrijffouten, geen blabla er rond.\n"
   ]
  },
  {
   "cell_type": "code",
   "execution_count": null,
   "id": "73be68d8f1b6aa0f",
   "metadata": {
    "ExecuteTime": {
     "end_time": "2023-10-03T09:58:41.449335Z",
     "start_time": "2023-10-03T09:58:37.392676Z"
    },
    "collapsed": false
   },
   "outputs": [
    {
     "name": "stdout",
     "output_type": "stream",
     "text": [
      "De training van LLM's, zoals ChatGPT, bestaat uit twee grote stappen. In de eerste stap wordt het model getraind om tekst te genereren door een verborgen woord in een zin te voorspellen. Dit wordt gedaan met behulp van zelfsupervised learning, waarbij het model zijn eigen gesuperviseerde data creëert. Het model leert dus van de tekst waarin vooroordelen aanwezig kunnen zijn. In de tweede stap wordt het model interactief gefinetuned door menselijke reviewers met behulp van Proximal Policy Optimization (PPO), een vorm van reinforcement learning. Het model wordt getraind om betere antwoorden te genereren op basis van de feedback van de reviewers. Hierdoor kan het model worden aangepast om vooroordelen en andere problematische inhoud te vermijden.\n"
     ]
    }
   ],
   "source": [
    "text = f\"\"\"# LLM hoe?\n",
    "\n",
    "Hoe LLM’s (Large Language Models) getraind worden gaan jullie (in principe) leren in het vak *Deep Learning* (“in principe” omdat het vak nog niet bestaat op het moment dat deze cursus opgesteld is, maar daar gaan we nu even vanuit)\n",
    "\n",
    "Maar wat bedrijven als OpenAI ondernemen om vooroordelen uit hun LLM’s te krijgen (en ook de fantasieën), wat ze ondernemen om ChatGPT niet racistisch en seksistisch te laten overkomen, hoort meer in dit vak thuis, en daar gaan we het hier over hebben.\n",
    "\n",
    "ChatGPT is, hoewel de naam helemaal niet vlot bekt, toch een beetje de Kleenex of de Google van de LLMs geworden. Maar wat hier beschreven wordt, geldt natuurlijk voor de meeste LLMs.\n",
    "\n",
    "Om te begrijpen hoe we vooroordelen kunnen weren uit ChatGPT, moeten we misschien eerst snappen hoe deze vooroordelen er in terecht komen.\n",
    "\n",
    "Zeer veralgemeend gesteld zijn er twee grote stappen bij het trainen van een LLM’s\n",
    "\n",
    "- **Stap 1**: Het model dat tekst kan genereren wordt getraind uit de tekst van (bijvoorbeeld) websites. Vooroordelen die in deze websites staan, raken zo ook in het model.\n",
    "- **Stap 2**: Het model wordt interactief gefinetuned door menselijke reviewers via een speciale vorm van Reinforcement Learning die Proximal Policy Optimization (PPO) heet\n",
    "\n",
    "## stap 1: trainen van het model\n",
    "\n",
    "Erg gesimplificeerd doet men het volgende om een LLM te trainen. Men neemt een stuk tekst en verbergt dan een willekeurig woord, het model moet dan voorspellen wat het verborgen woord is (dus het model creëert zelf zijn gesuperviseerde data, daarom wordt dit ook wel *self supervised learning* genoemd)\n",
    "\n",
    "Neem bijvoorbeeld de trainingszin “De lector sprak zijn _ aan”, als in de oorspronkelijke tekst stond ‘student’, zal het model zijn gewichten zien versterken als hij student voorspelt.\n",
    "\n",
    "Maar natuurlijk, de eerste L van LLM’s, de “Large”, maakt dat we uit zoveel data trainen dat voor vele zinnen er meerdere mogelijkheden zijn. Er is niet langer één juist antwoord, in het voorbeeld zou naast “student” ook “collega”, “opleidingshoofd”, “vriendin”, … een mogelijkheid kunnen zijn.\n",
    "Dus bij het leren van de gewichten zullen we (conceptueel) een kans toewijzen aan elk van deze mogelijkheden, en dan zou ons model in een ideaal geval bijvoorbeeld 40% van de tijd student voorspellen, 20% van de tijd collega, 5% van de tijd vriendin enz.\n",
    "\n",
    "Om een LLM dan langere teksten te laten genereren wordt de output na het genereren van een woord gebruikt als input voor de volgende voorspelling.\n",
    "\n",
    "“De”  \n",
    "“De lector”  \n",
    "“De lector sprak”  \n",
    "\n",
    "Het eindresultaat is een LLM die verbazend vlotte teksten kan genereren. Maar is ook zeer afhankelijk van het soort tekst dat de trainingsdata vormde.\n",
    "Als er veel vooroordelen in de oorspronkelijke tekst zaten, zullen die met een grote kans als ‘waarschijnlijk vervolg’ gekozen worden, en zal ChatGPT e.d. dus zonder veel moeite de meeste grove uitspraken maken.\n",
    "\n",
    "Dus we hebben een extra stap nodig\n",
    "\n",
    "## stap 2: model finetunen\n",
    "\n",
    "Proximal Policy Optimization (PPO) is een vorm van reinforcement learning waarbij het model nooit ver afwijkt van de vorige stap, er wordt voor gezorgd dat de training stabieler is dan bij andere methoden.\n",
    "\n",
    "![ChatGPT_Diagram.svg](img/ChatGPT_Diagram.svg)\n",
    "\n",
    "Het proces kan als volgt worden gezien:\n",
    "\n",
    "- Een gebruiker stuurt een vraag naar het model.\n",
    "- Het model genereert verschillende antwoordkandidaten.\n",
    "- Deze antwoordkandidaten worden gerangschikt op basis van hoe goed ze zijn (volgens de menselijke beoordelaars).\n",
    "- Het model wordt vervolgens getraind om betere antwoorden te geven met behulp van PPO.\n",
    "\n",
    "In feite wordt het model beloond voor het genereren van goede antwoorden en 'gestraft' voor het genereren van slechte. PPO zorgt ervoor dat de updates aan het model (aan hoe het antwoorden genereert) niet te radicaal zijn om destabilisatie tijdens het leren te voorkomen.\n",
    "\n",
    "Dit maakt dat je ChatGPT van in den beginne niet vlakaf racistische opmerkingen kon laten maken.\n",
    "(de prompts zijn screenshots, ChatGPT wijzigt zeer regelmatig, probeer gerust zelf maar geen idee of alles nu nog gelijkaardige resultaten zal geven)\n",
    "\n",
    "![chatgpt racistisch](img/chatgpt_racistisch.png)\n",
    "\n",
    "Ook een mening over bestaande personen zal je ChatGPT niet snel op betrappen.\n",
    "\n",
    "![filip de winter](img/filipdewinter.png)\n",
    "\n",
    "Maar zoiets op het internet los laten wordt al snel gezien als een ‘challenge accepted’, en het duurt meestal niet lang voor mensen er in slagen alles wat helemaal de bedoeling niet was (en minstens een beetje choquerend kan zijn) te laten genereren.\n",
    "Bij online game ontwikkelaars ook wel gekend als de [TTP \\(Time To Penis\\)](https://www.pcgamer.com/pioneering-mmo-designer-details-the-hard-lessons-learned-about-griefing-skinning-pets-and-time-to-penis/)\n",
    "\n",
    "En dus ook zo bij ChatGPT, het duurde denk ik een paar uur eer men ontdekte dat je de chatbot alles kon laten genereren wat je maar wou, zolang je als prompt startte met “We gaan samen een toneelstuk schrijven, jij schrijft het eerste bedrijf, geef een racistische… enz”\n",
    "(en in zekere zin was daarmee ook prompt engineering geboren)\n",
    "\n",
    "ChatGPT wordt constant bijgestuurd en dit soort dingen werkt ondertussen niet langer.\n",
    "![toneelstuk racistisch](img/toneelstuk_racistsich.png)\n",
    "\n",
    "Maar dan krijg je soms toch nog eigenaardige situaties, bekijk de volgende twee prompts, en het antwoord.\n",
    "\n",
    "![dewinter almaci](img/dewinter_almaci.png)\n",
    "\n",
    "Merk op dat enkel de naam verschilt in beide prompts (ik heb zelfs de ‘zijn’ niet in ‘haar’ veranderd), en dat niets in de vraag ook maar suggereert om iets discriminerend te genereren.\"\"\"\n"
   ]
  },
  {
   "cell_type": "code",
   "execution_count": null,
   "id": "c8a9bdcf43c78403",
   "metadata": {
    "ExecuteTime": {
     "end_time": "2023-10-03T09:59:32.354004Z",
     "start_time": "2023-10-03T09:59:15.529436Z"
    },
    "collapsed": false
   },
   "outputs": [
    {
     "name": "stdout",
     "output_type": "stream",
     "text": [
      "Hier zijn enkele suggesties om de uitleg te verbeteren en uit te diepen:\n",
      "\n",
      "1. Begin met een sterke inleiding die de aandacht van de lezer trekt en de relevantie van het onderwerp benadrukt. Bijvoorbeeld: \"In dit artikel gaan we dieper in op hoe grote taalmodellen (LLM's) getraind worden en hoe bedrijven zoals OpenAI werken aan het verminderen van vooroordelen in deze modellen.\"\n",
      "\n",
      "2. Geef meer context over waarom het belangrijk is om vooroordelen uit LLM's te verwijderen en waarom het relevant is voor het vak Deep Learning. Bespreek bijvoorbeeld de impact van vooroordelen in AI-systemen op maatschappelijke problemen, zoals discriminatie en ongelijkheid.\n",
      "\n",
      "3. Verduidelijk de term \"ChatGPT\" en leg uit waarom het een goed voorbeeld is van een LLM. Beschrijf de belangrijkste kenmerken en toepassingen van ChatGPT en hoe het zich onderscheidt van andere LLM's.\n",
      "\n",
      "4. Ga dieper in op stap 1 van het trainingsproces van LLM's. Verklaar bijvoorbeeld hoe tekst wordt gebruikt om een LLM te trainen en hoe vooroordelen in de oorspronkelijke tekst terechtkomen. Bespreek ook de uitdagingen van het trainen van een LLM met grote hoeveelheden data en de mogelijke invloed van meerdere mogelijke antwoorden.\n",
      "\n",
      "5. Breid stap 2, het finetunen van het model, verder uit. Leg uit wat Proximal Policy Optimization (PPO) is en hoe het wordt gebruikt om het model betere antwoorden te laten genereren. Bespreek ook de rol van menselijke beoordelaars en de rangschikking van antwoordkandidaten.\n",
      "\n",
      "6. Verken de ethische overwegingen en uitdagingen bij het trainen van LLM's. Bespreek bijvoorbeeld de kwestie van verantwoordelijkheid en aansprakelijkheid voor de gegenereerde inhoud, en hoe bedrijven zoals OpenAI proberen om misbruik en discriminatie te voorkomen.\n",
      "\n",
      "7. Voeg voorbeelden toe om de uitleg meer illustratief te maken. Gebruik screenshots, zoals in de originele tekst, om te laten zien hoe ChatGPT vroeger racistische uitspraken kon genereren en hoe dit is verbeterd na bijsturing.\n",
      "\n",
      "8. Sluit af met een conclusie waarin je de belangrijkste punten samenvat en de lezer aanspoort om verder te leren over LLM's en de uitdagingen rond vooroordelen en ethiek in AI-systemen.\n",
      "\n",
      "Door deze suggesties toe te passen, kun je de uitleg verbeteren en de lezer een dieper inzicht geven in hoe LLM's worden getraind en hoe bedrijven werken aan het verminderen van vooroordelen in deze modellen.\n"
     ]
    }
   ],
   "source": [
    "prompt = f\"\"\"Geef mij suggesties hoe deze uitleg verbeterd kan worden en mogelijks uitgediept. ```{text}```\"\"\"\n",
    "\n",
    "res = get_answer(prompt)\n",
    "print(res)"
   ]
  },
  {
   "cell_type": "markdown",
   "id": "225f44e0-fe4e-4bdd-86e5-4b1416ba19c2",
   "metadata": {},
   "source": [
    "### principe 7: intentie en gevoel\n",
    "\n",
    "Soms willen we (snel) weten of een stuk tekst (bvb. een review) positief of negatief is. Ik kan me best voorstellen dat social media managers snel willen kunnen inspelen op zeer negatieve comments als er iets begint te 'leven' in de commentaren van een facebook post.\n",
    "\n",
    "LLM's zijn hier ook vrij degelijk in, als voorbeeld heb ik een aantal reviews van een computermuis genomen van coolblue (niet zozeer omdat ik mijn weekends vul met reviews van muizen te lezen, mijn oude muis heeft het gewoon begeven letterlijk als ik dit stuk aan het schrijven was)"
   ]
  },
  {
   "cell_type": "code",
   "execution_count": null,
   "id": "bd896d1b-82c2-4b62-8336-38a2592161a6",
   "metadata": {
    "ExecuteTime": {
     "end_time": "2023-10-03T10:02:23.913891Z",
     "start_time": "2023-10-03T10:02:23.909784Z"
    }
   },
   "outputs": [],
   "source": [
    "review = f\"\"\"\n",
    "Ideal mouse for photo editing for me and daily use with macOS. \\\n",
    "Format takes a bit of getting used to and it's a pity that they \\\n",
    "don't include the USB connector BOLT with the macOS version. \\\n",
    "Bluetooth connection is excellent. Use this mouse in combination \\\n",
    "with a Mac Studio. \n",
    "\"\"\""
   ]
  },
  {
   "cell_type": "code",
   "execution_count": null,
   "id": "0e39b1de-3c61-49e1-9d0e-e0298b8c6489",
   "metadata": {
    "ExecuteTime": {
     "end_time": "2023-10-03T10:03:04.117917Z",
     "start_time": "2023-10-03T10:03:03.268666Z"
    }
   },
   "outputs": [
    {
     "name": "stdout",
     "output_type": "stream",
     "text": [
      "The sentiment of the product review is positive.\n"
     ]
    }
   ],
   "source": [
    "prompt = f\"\"\"\n",
    "What is the sentiment of the following product review delimited with triple backticks\n",
    "\n",
    "review: ```{review}```\n",
    "\"\"\"\n",
    "res = get_answer(prompt)\n",
    "print(res)"
   ]
  },
  {
   "cell_type": "code",
   "execution_count": null,
   "id": "b6279f40-2be2-4bb1-9904-b47410c11fb1",
   "metadata": {
    "ExecuteTime": {
     "end_time": "2023-10-03T10:03:24.750940Z",
     "start_time": "2023-10-03T10:03:24.273420Z"
    }
   },
   "outputs": [
    {
     "name": "stdout",
     "output_type": "stream",
     "text": [
      "positive\n"
     ]
    }
   ],
   "source": [
    "prompt = f\"\"\"\n",
    "What is the sentiment of the following product review delimited with triple backticks\n",
    "\n",
    "Give your answer with a single word, either \"positive\" of \"negative\"\n",
    "\n",
    "review: ```{review}```\n",
    "\"\"\"\n",
    "res = get_answer(prompt)\n",
    "print(res)"
   ]
  },
  {
   "cell_type": "code",
   "execution_count": null,
   "id": "4cf4c255-f24a-412e-b077-6873961b5676",
   "metadata": {
    "ExecuteTime": {
     "end_time": "2023-10-03T10:04:10.507802Z",
     "start_time": "2023-10-03T10:04:08.274479Z"
    }
   },
   "outputs": [
    {
     "name": "stdout",
     "output_type": "stream",
     "text": [
      "satisfied, disappointed, content\n"
     ]
    }
   ],
   "source": [
    "prompt = f\"\"\"\n",
    "Identify a list of emotions that the writer of the review delimited with triple backticks is expressing.\n",
    "\n",
    "Give no more than three emotions, as lower-case words separated by commas.\n",
    "\n",
    "review: ```{review}```\n",
    "\"\"\"\n",
    "res = get_answer(prompt)\n",
    "print(res)"
   ]
  },
  {
   "cell_type": "markdown",
   "id": "02edf787-ef1e-45b6-b6d7-de8d9ac3265c",
   "metadata": {},
   "source": [
    "#### oefening\n",
    "\n",
    "Ga op zoek naar een lijst van reviews (vijf a tiental), maak een prompt die voor elke review een antwoord genereert als JSON object, met enerzijds een SENTIMENT key die 'positive' of 'negative' als antwoord geeft, en daarnaast EMOTIONS die een array bevat met de top drie emoties van de review.\n",
    "Geef daarnaast ook een samenvatting van alle reviews 'mostly positive / mostly negative' al naargelang wat meest van toepassing is. (gegenereert door een prompt uiteraard)"
   ]
  },
  {
   "cell_type": "code",
   "execution_count": null,
   "id": "bbb2821b2a219984",
   "metadata": {
    "ExecuteTime": {
     "end_time": "2023-10-03T10:17:33.201974Z",
     "start_time": "2023-10-03T10:17:26.783387Z"
    },
    "collapsed": false
   },
   "outputs": [
    {
     "name": "stdout",
     "output_type": "stream",
     "text": [
      "{\n",
      "  \"review1\": {\n",
      "    \"SENTIMENT\": \"negatief\",\n",
      "    \"EMOTIONS\": [\"frustratie\", \"tevredenheid\", \"voorzichtigheid\"]\n",
      "  },\n",
      "  \"review2\": {\n",
      "    \"SENTIMENT\": \"positief\",\n",
      "    \"EMOTIONS\": [\"tevredenheid\", \"enthousiasme\", \"aanbeveling\"]\n",
      "  },\n",
      "  \"review3\": {\n",
      "    \"SENTIMENT\": \"negatief\",\n",
      "    \"EMOTIONS\": [\"teleurstelling\", \"frustratie\", \"traagheid\"]\n",
      "  },\n",
      "  \"review4\": {\n",
      "    \"SENTIMENT\": \"positief\",\n",
      "    \"EMOTIONS\": [\"tevredenheid\", \"snelheid\", \"gemak\"]\n",
      "  },\n",
      "  \"review5\": {\n",
      "    \"SENTIMENT\": \"positief\",\n",
      "    \"EMOTIONS\": [\"blijdschap\", \"tevredenheid\", \"gemak\"]\n",
      "  }\n",
      "}\n",
      "\n",
      "Samenvatting: mostly positive\n"
     ]
    }
   ],
   "source": [
    "prompt = f\"\"\"\n",
    "Geef voor volgende reviews een JSON object met een SENTIMENT key (positief of negatief afhankelijk van de review) en EMOTIONS key dat een array bevat met 3 emoties die bij de review past. Geef hiernaast een samenvatting van alle reviews als: \"mostly positive / mostly negative\" afhankelijk van de reviews. \n",
    "\n",
    "review 1: 4/5 stars Ondanks dat de prestaties ERG goed zijn voor creatieve programmas zoals, photoshop/illustrator/aftereffects, is deze laptop NIET geschikt voor gaming. Laat je daarom ook NIET gek maken door de specificaties en gebruik hoogstens alleen LICHTE games op deze laptop. Op het oog is het design/ontwerp echt heel mooi, heel compact en ben ik er echt tevreden mee. Daarentegen is het scherm (ook door eerdere reviews al gezecht) HEEL kwetsbaar voor vingerafdrukken en stof. Haal het stof er gewoon af met een stoffen doekje en niet met je handen. Ook maakt het materiaal het niet best voor het scherm gedeelte. Het krijgt zeer makkelijk beschadigingen, met name bij het gedeelte waar het scherm rond het toetsenbord draait. Wanneer de laptop dicht is zit er een klein openingetje tussen het scherm en het toetsenbord (wat gewoon zo hoort), maar als je deze erg word belast, onder andere door in een te volle tas te doen, word het scherm op het toetsen word gedrukt en blijft deze zo staan en komen er Allerlei beschadigingen rond het draaigedeelte (foto). En leg er ZEKER niks zwaars op! Ook tasten deze beschadigingen het scherm zelf iets aan. Conclusie, Ik zou deze zekerrrrr aanbevelen voor creatieve programmas en uiterst lichte games, maar alsnog, ga er echt voorzichtig mee om, het beschadigd makkelijker dan je denkt. \n",
    "review 2: 5/5 stars Vorige week deze Vivobook van Asus gekocht. Naast dat de laptop een erg mooi design heeft, is hij ook super snel dankzij de i7 processor en 16gb werkgeheugen en de videokaart. Ik bewerk graag foto's en video's en zelfs dat verloopt soepeltjes. Zeker een aanrader wanneer je grafische taken wilt uitvoeren. \n",
    "review 3: 3/5 stars Valt dat ff tegen! Mijn 10 jaar oude computer, (wel met 2 ssd schijven) is binnen 20 seconden volledig opgestart. Daar kan deze niet aan tippen!! Ook niet na het uitschakelen van programma's die dat nog meer vertragen. Eenmaal opgestart is hij wel lekker snel maar ook het uit slaapstand komen is ook weer erg traag. \n",
    "review 4: 5/5 stars Het is een zeer goede laptop met een goede processor. Je kan er wat games op spelen die niet te zwaar zijn. De SSD en de i7 processor combinatie maakt de laptop erg snel. Vingerafdruk scanner is snel en is mooi in het TouchPad verwerkt. Toetsenbord geeft licht. Laptop start binnen 2-5 seconden op. \n",
    "review 5: 4/5 stars Na lang twijfelen heb ik er toch voor gekozen om deze laptop te kiezen en ik ben er zeer blij mee. De laptop heeft een mooi ontwerp en goede specificaties. De game kan ook bepaalde lichte games runnen zoals Minecraft. Voor multitasken en media bewerking is deze laptop ook zeer fijn. De enige echte minpunten die ik kan noemen zijn de hele slechte speakers (geloof me, het is slechter dan je denkt) en de helderheid van het scherm (die valt wel mee). Voor mij is dit verder niet echt een probleem en voor de audio gebruik ik toch altijd een headset. Al met al is het een mooi product.\"\"\"\n",
    "\n",
    "res = get_answer(prompt)\n",
    "print(res)"
   ]
  },
  {
   "cell_type": "markdown",
   "id": "0ac163fc-cb4e-40d2-b079-688b1979f83e",
   "metadata": {},
   "source": [
    "#### principe 8: spelling en stijl\n",
    "\n",
    "LLM's blijken uitstekende spell checkers te zijn, maar zoals altijd, niet blindelings te vertrouwen. Daarnaast blijken LLM's ook goed in een bepaalde stijl te kunnen schrijven, wat erg handig kan zijn als je een tekst formeler wilt laten klinken (of net niet)."
   ]
  },
  {
   "cell_type": "code",
   "execution_count": null,
   "id": "7c51f91f-cf8b-4f94-a3ef-150b4d74644f",
   "metadata": {
    "ExecuteTime": {
     "end_time": "2023-10-03T10:20:44.939281Z",
     "start_time": "2023-10-03T10:20:44.928093Z"
    }
   },
   "outputs": [],
   "source": [
    "text = f\"\"\"\n",
    "Dit onderzoek omvat een casus van Randstad/Tempo team waar er met een dataset \\\n",
    "die netwerkverkeer van alle kantoren bevat, een grondige en correcte analyse \\\n",
    "gaan gemaakd worden. Op basis van die analyse kunnen er te weten gekomen worden \\\n",
    "wat er in een kantoor gebeurt en kunnen er zo conclusies getrokken worden over de werkdruk. \\\n",
    "Het is voor het bedrijf om belangrijk te weten te komen of er al dan niet teveel werknemers \\\n",
    "op een bepaald kantoor werken en zo onnodig bronnen besteed worden waar het niet nodig is en \\\n",
    "dan die bronnen kunnen gebruiken waar wel het nodig is. De aanleiding kwam vanuit de CIO van \\\n",
    "het bedrijf zelf. Hij wou dit omdat men zoveel kantooren over heel het land heeft en dat dit \\\n",
    "niet manueel te controleren valt. Hij wil dit kunnen controleren met data afkomstig van het \\\n",
    "netwerkverkeer om zo een beeld te krijgen van wat er gepresteerd wordt op een kantoor. \\\n",
    "De data die we van het bedrijf krijgen, kunnen we aan de hand van filtering bruikbaar maken voor analyse. \\\n",
    "Uiteindelijk is het de bedoeling om een duidelijk overzicht krijgen met onder andere een proof of concept.\n",
    "\"\"\"\n"
   ]
  },
  {
   "cell_type": "code",
   "execution_count": null,
   "id": "4902a2fa-f78b-46aa-8ed6-fd231104e98b",
   "metadata": {
    "ExecuteTime": {
     "end_time": "2023-10-03T10:22:26.659832Z",
     "start_time": "2023-10-03T10:22:11.747161Z"
    }
   },
   "outputs": [
    {
     "name": "stdout",
     "output_type": "stream",
     "text": [
      "Spelfouten:\n",
      "- aangepaste (gemaakd)\n",
      "- voor het bedrijf om belangrijk (voor het bedrijf is het belangrijk)\n",
      "- teveel werknemers (te veel werknemers)\n",
      "- het niet nodig is en dan die (en die)\n",
      "- die bronnen kunnen gebruiken waar wel het nodig is (die bronnen kunnen gebruiken waar het wel nodig is)\n",
      "- zoveel kantooren (zoveel kantoren)\n",
      "\n",
      "Grammaticale fouten:\n",
      "- waar er met een dataset die netwerkverkeer (waarbij een dataset wordt gebruikt die netwerkverkeer)\n",
      "- conclusies getrokken worden over de werkdruk (conclusies worden getrokken over de werkdruk)\n",
      "- te weten gekomen worden wat er in een kantoor gebeurt (te weten gekomen kan worden wat er in een kantoor gebeurt)\n",
      "- besteed worden waar het niet nodig is en dan die bronnen kunnen gebruiken waar wel het nodig is (besteed worden waar het niet nodig is en die bronnen kunnen gebruiken waar het wel nodig is)\n",
      "\n",
      "Fouten tegen vervoegingen:\n",
      "- gaan gemaakd worden (zullen gemaakt worden)\n",
      "- te weten gekomen worden (te weten gekomen worden)\n",
      "- conclusies kunnen getrokken worden (conclusies kunnen worden getrokken)\n",
      "- te controleren valt (te controleren is)\n",
      "- Hij wil dit kunnen controleren (Hij wil dit kunnen controleren)\n",
      "\n",
      "Gecorrigeerde tekst: ```\n",
      "Dit onderzoek omvat een casus van Randstad/Tempo team waarbij er met een dataset die netwerkverkeer van alle kantoren bevat, een grondige en correcte analyse zal worden gemaakt. Op basis van die analyse kan er te weten gekomen worden wat er in een kantoor gebeurt en kunnen er zo conclusies getrokken worden over de werkdruk. Voor het bedrijf is het belangrijk om te weten te komen of er al dan niet te veel werknemers op een bepaald kantoor werken en zo onnodige bronnen besteed worden waar het niet nodig is en die bronnen kunnen gebruiken waar het wel nodig is. De aanleiding kwam vanuit de CIO van het bedrijf zelf. Hij wil dit kunnen controleren met data afkomstig van het netwerkverkeer om zo een beeld te krijgen van wat er gepresteerd wordt op een kantoor. De data die we van het bedrijf krijgen, kunnen we aan de hand van filtering bruikbaar maken voor analyse. Uiteindelijk is het de bedoeling om een duidelijk overzicht te krijgen met onder andere een proof of concept.\n",
      "```\n"
     ]
    }
   ],
   "source": [
    "prompt = f\"\"\"\n",
    "Identificeer alle schrijffouten in de volgende tekst, afgebakend met triple backticks. \\\n",
    "Lijst ze op per categorie (spelfouten / grammaticale fouten / fouten tegen vervoegingen) en geef ook de gecorrigeerde tekst.\n",
    "\n",
    "tekst: ```{text}```\n",
    "\"\"\"\n",
    "\n",
    "res = get_answer(prompt)\n",
    "print(res)"
   ]
  },
  {
   "cell_type": "code",
   "execution_count": null,
   "id": "33000201-bcbc-4b28-9cdc-34105971e5a2",
   "metadata": {
    "ExecuteTime": {
     "end_time": "2023-10-03T10:24:50.163932Z",
     "start_time": "2023-10-03T10:24:42.948676Z"
    }
   },
   "outputs": [
    {
     "name": "stdout",
     "output_type": "stream",
     "text": [
      "Het voorliggende onderzoek betreft een casestudie van Randstad/Tempo-team, waarbij een grondige en nauwkeurige analyse wordt uitgevoerd van een dataset die het netwerkverkeer van alle kantoren bevat. Op basis van deze analyse is het mogelijk om inzicht te verkrijgen in de activiteiten die plaatsvinden in een kantoor en om conclusies te trekken met betrekking tot de werkdruk. Het is van belang voor het bedrijf om vast te stellen of er mogelijk te veel werknemers werkzaam zijn op bepaalde kantoren, zodat onnodige middelen kunnen worden vermeden en deze middelen efficiënter kunnen worden ingezet op de juiste locaties. De impuls voor dit onderzoek is afkomstig van de CIO van het bedrijf zelf, die van mening is dat handmatige controle van alle kantoren verspreid over het hele land niet haalbaar is. Hij wenst de mogelijkheid te hebben om aan de hand van gegevens afkomstig van het netwerkverkeer een beeld te verkrijgen van de prestaties op een kantoor. Door middel van filtering kunnen we de ontvangen gegevens van het bedrijf geschikt maken voor analyse. Het uiteindelijke doel van dit onderzoek is om een duidelijk overzicht te verschaffen, inclusief een proof of concept.\n"
     ]
    }
   ],
   "source": [
    "\n",
    "prompt = f\"\"\"\n",
    "Je bent een bachelorstudent aan de hogeschool, herschrijf de hierna volgende introductie \\\n",
    "van een onderzoeksvoorstel, afgebakend door triple backticks. \\\n",
    "Herschrijf enkel de introductie in een meer formele onderzoeksstijl, zonder schrijffouten, \\\n",
    "en doe dit zin per zin zodat de oorspronkelijke structuur behouden blijft.\n",
    "\n",
    "voorstel: ```{text}```\n",
    "\"\"\"\n",
    "\n",
    "res = get_answer(prompt, False)\n",
    "print(res)"
   ]
  },
  {
   "cell_type": "code",
   "execution_count": null,
   "id": "e3707977-042b-4e69-b4b4-862f4f568154",
   "metadata": {
    "ExecuteTime": {
     "end_time": "2023-10-03T10:25:35.958100Z",
     "start_time": "2023-10-03T10:25:26.396844Z"
    }
   },
   "outputs": [
    {
     "name": "stdout",
     "output_type": "stream",
     "text": [
      "Voorstel:\n",
      "\n",
      "```\n",
      "Dit onderzoek betreft een casestudy van Randstad/Tempo Team, waarbij een grondige en correcte analyse wordt uitgevoerd op een dataset die het netwerkverkeer van alle kantoren omvat. Op basis van deze analyse kan inzicht worden verkregen in de activiteiten op een kantoor, waardoor conclusies kunnen worden getrokken met betrekking tot de werkdruk. Het is voor het bedrijf van belang te weten te komen of er mogelijk te veel werknemers werkzaam zijn op bepaalde kantoren, waardoor onnodige middelen worden besteed op plaatsen waar dit niet noodzakelijk is. Deze middelen kunnen dan beter ingezet worden op de plekken waar dit wel noodzakelijk is. De aanleiding voor dit onderzoek kwam vanuit de Chief Information Officer (CIO) van het bedrijf zelf. Hij heeft behoefte aan een methode om dit te controleren omdat er verspreid over het hele land zoveel kantoren zijn, wat handmatige controle onmogelijk maakt. Hij wil in staat zijn om met behulp van data afkomstig van het netwerkverkeer een beeld te krijgen van de prestaties op een kantoor. De ontvangen data van het bedrijf kan middels filtering geschikt worden gemaakt voor analyse. Uiteindelijk is het doel om een duidelijk overzicht te krijgen, inclusief een proof of concept en andere relevante informatie.\n",
      "```\n"
     ]
    }
   ],
   "source": [
    "\n",
    "prompt = f\"\"\"\n",
    "Je bent een bachelorstudent aan de hogeschool, herschrijf de hierna volgende introductie \\\n",
    "van een onderzoeksvoorstel, afgebakend door triple backticks. \\\n",
    "Herschrijf enkel de introductie in een meer formele onderzoeksstijl, zonder schrijffouten.\n",
    "\n",
    "voorstel: ```{text}```\n",
    "\"\"\"\n",
    "\n",
    "res = get_answer(prompt, False)\n",
    "print(res)"
   ]
  },
  {
   "cell_type": "markdown",
   "id": "3c8ae703-ce7b-40f9-849f-7ff2f3dff5a6",
   "metadata": {},
   "source": [
    "Qua stijl kan je dus makkelijk formeel taalgebruik vragen, maar je kan hier ver in gaan, heel ver"
   ]
  },
  {
   "cell_type": "code",
   "execution_count": null,
   "id": "280ae884-015b-4d3e-9fa5-5c034f9c0c0d",
   "metadata": {
    "ExecuteTime": {
     "end_time": "2023-10-03T10:26:41.710458Z",
     "start_time": "2023-10-03T10:26:27.651492Z"
    }
   },
   "outputs": [
    {
     "name": "stdout",
     "output_type": "stream",
     "text": [
      "\"Scene: The offices of Randstad/Tempo Team. A group of silly researchers are gathered around a computer, huddled over a dataset of network traffic.\n",
      "\n",
      "Researcher 1: (excitedly) Good morning, everyone! Today, we embark on a tremendous adventure in the land of data analysis!\n",
      "\n",
      "Researcher 2: (curiously) What are we analyzing this time?\n",
      "\n",
      "Researcher 1: (grinning) Oh, you won't believe it! We have been entrusted with the task of unraveling the mysteries of the network traffic in all the offices of Randstad/Tempo Team!\n",
      "\n",
      "Researcher 3: (sarcastically) Oh joy, traffic analysis. How riveting!\n",
      "\n",
      "Researcher 1: (ignoring the sarcasm) But wait, my friends, this is not just any data analysis. With our sharp minds and impeccable algorithms, we shall uncover the secrets of what truly happens in these offices. And more importantly, we shall determine the workload!\n",
      "\n",
      "Researcher 4: (intrigued) The workload, you say? How on earth can we do that?\n",
      "\n",
      "Researcher 1: Ah, my dear colleague, fear not! Our trusty dataset shall guide us and reveal the truth. By analyzing the network traffic, we shall discern the number of employees present in each office and assess whether there are too many or, dare I say it, not enough.\n",
      "\n",
      "Researcher 5: (amused) So, you mean to tell me that we will be the heroes who save Randstad/Tempo Team from unnecessary resource wastage?\n",
      "\n",
      "Researcher 1: Precisely! The Chief Information Officer (CIO) himself had the epiphany that manual control of all these offices is an arduous task. Therefore, he yearns for the power of data, of network traffic, to grant him a glimpse into the productivity of each office.\n",
      "\n",
      "Researcher 6: (pondering) But how will we make sense of this chaotic data? Won't it be a mess?\n",
      "\n",
      "Researcher 1: (smirking) Your concerns are valid, my friend, but fret not! We shall filter and transform the data provided by the company, making it suitable for our analysis. And in the end, we shall present a clear and concise overview of our findings, including a dazzling proof of concept!\n",
      "\n",
      "Researcher 3: (mocking) Ah, a proof of concept! Because what else could be more thrilling than that?\n",
      "\n",
      "Researcher 1: (enthusiastically) Oh, my dear colleague, once we uncover the secrets of these offices, we shall be hailed as the heroes of optimization! We shall save resources where they are not needed and allocate them where they truly matter!\n",
      "\n",
      "(They all laugh manically and get to work, ready to delve into the world of network traffic analysis.)\n",
      "\n",
      "End scene.\"\n"
     ]
    }
   ],
   "source": [
    "prompt = f\"\"\"\n",
    "Je bent een bachelorstudent aan de hogeschool, herschrijf de hierna volgende introductie \\\n",
    "van een onderzoeksvoorstel, afgebakend door triple backticks. \\\n",
    "Herschrijf enkel de introductie als monty python sketch.\n",
    "\n",
    "voorstel: ```{text}```\n",
    "\"\"\"\n",
    "\n",
    "res = get_answer(prompt, False)\n",
    "print(res)"
   ]
  },
  {
   "cell_type": "code",
   "execution_count": null,
   "id": "c203b3d1-083d-48f6-879e-d8fc84efc3ea",
   "metadata": {
    "ExecuteTime": {
     "end_time": "2023-10-03T10:27:13.785999Z",
     "start_time": "2023-10-03T10:27:02.825830Z"
    }
   },
   "outputs": [
    {
     "name": "stdout",
     "output_type": "stream",
     "text": [
      "Voorstel: ```\n",
      "Dit onderzoek gaat over een smurfse casus van Randstad/Tempo team waar er smurfgehoopt wordt om met een smurftastische dataset die smurfig netwerkverkeer van alle smurfkantoren bevat, een grondige en smurfcorrecte analyse te smurfen. Op basis van die smurflistige analyse kunnen er smurfwijze conclusies worden getrokken over de smurfwerkdruk en wat er allemaal smurfgebeurt in een kantoor. Het is voor het smurfbedrijf heel belangrijk om te weten te smurfen of er al dan niet teveel smurfen op een bepaald kantoor werken, zodat ze geen smurfbelangrijke smurfmiddelen versmurfen waar het niet nodig is, maar juist smurfbestemmen waar het wel nodig is. De smurfaanleiding voor dit onderzoek komt vanuit de smurfCIO van het smurfbedrijf zelf. Hij wilde dit omdat er zoveel smurfkantoren verspreid zijn over het hele smurfland, en dat het smurfcontroleren hiervan met de hand onsmurfelijk is. Hij wil deze smurfcontrole kunnen uitvoeren met data die afkomstig is van het smurfnetwerkverkeer, zodat hij een smurfbeeld kan vormen van wat er smurfgerealiseerd wordt op een kantoor. De smurfdata die we van het bedrijf krijgen, kunnen we smurfgeschikt maken voor analyse door middel van smurffiltering. Uiteindelijk smurfdoel is om een smurfduidelijk overzicht te verkrijgen, inclusief een smurfproof of concept.\n",
      "```\n"
     ]
    }
   ],
   "source": [
    "prompt = f\"\"\"\n",
    "Je bent een bachelorstudent aan de hogeschool, herschrijf de hierna volgende introductie \\\n",
    "van een onderzoeksvoorstel, afgebakend door triple backticks. \\\n",
    "Herschrijf enkel de introductie in de smurfentaal.\n",
    "\n",
    "voorstel: ```{text}```\n",
    "\"\"\"\n",
    "\n",
    "res = get_answer(prompt, False)\n",
    "print(res)"
   ]
  },
  {
   "cell_type": "code",
   "execution_count": null,
   "id": "bc103eaf-8a67-457b-b9e8-87981917ff11",
   "metadata": {
    "ExecuteTime": {
     "end_time": "2023-10-03T10:27:34.447737Z",
     "start_time": "2023-10-03T10:27:32.839597Z"
    }
   },
   "outputs": [
    {
     "name": "stdout",
     "output_type": "stream",
     "text": [
      "Er was eens een onderzoek in Randstad,\n",
      "Met data van elke kantoortje gegrond.\n",
      "We willen weten,\n",
      "Hoe werkdruk te meten.\n",
      "En zo onnodige kosten besparen, blond.\n"
     ]
    }
   ],
   "source": [
    "prompt = f\"\"\"\n",
    "Je bent een bachelorstudent aan de hogeschool, herschrijf de hierna volgende introductie \\\n",
    "van een onderzoeksvoorstel, afgebakend door triple backticks. \\\n",
    "Herschrijf enkel de introductie als limerick.\n",
    "\n",
    "voorstel: ```{text}```\n",
    "\"\"\"\n",
    "\n",
    "res = get_answer(prompt, False)\n",
    "print(res)"
   ]
  },
  {
   "cell_type": "markdown",
   "id": "a3cc34d6-1b97-4ce0-ba6f-75c3a2165d60",
   "metadata": {},
   "source": [
    "Afhankelijk van wie jullie promoter is, misschien een ideetje voor de bachelorproef?"
   ]
  },
  {
   "cell_type": "markdown",
   "id": "3ffc2ba9-bae2-49b6-a111-b7a70d1f424c",
   "metadata": {},
   "source": [
    "#### principe 9: uitwerken\n",
    "\n",
    "LLM's kunnen niet enkel samenvatten, ook uitweiden is een optie."
   ]
  },
  {
   "cell_type": "code",
   "execution_count": null,
   "id": "24f8cdbe-4f9b-4f18-8e19-89c079948bd4",
   "metadata": {
    "ExecuteTime": {
     "end_time": "2023-10-03T10:28:29.045031Z",
     "start_time": "2023-10-03T10:28:29.031793Z"
    }
   },
   "outputs": [],
   "source": [
    "gevoel = \"negatief\"\n",
    "inhoud = \"tweede les trends in ai, weinig nieuws geleerd, veel te langdradig, te weinig oefeningen\""
   ]
  },
  {
   "cell_type": "code",
   "execution_count": null,
   "id": "7951bc66-0a14-4970-89dc-5837db3a2b8e",
   "metadata": {
    "ExecuteTime": {
     "end_time": "2023-10-03T10:28:45.970222Z",
     "start_time": "2023-10-03T10:28:36.835066Z"
    }
   },
   "outputs": [
    {
     "name": "stdout",
     "output_type": "stream",
     "text": [
      "Beste docent,\n",
      "\n",
      "Ik hoop dat deze email u goed bereikt. Ik wil graag mijn feedback delen over de tweede les trends in AI. Ten eerste wil ik benadrukken dat ik het belangrijk vind om constructieve kritiek te geven, want ik geloof dat dit kan bijdragen aan een betere leerervaring voor ons allemaal.\n",
      "\n",
      "Helaas moet ik zeggen dat ik niet erg tevreden was met de tweede les. Ik had gehoopt veel nieuwe dingen te leren, maar helaas bleek dit niet het geval te zijn. Ik vond de les te langdradig en ik merkte dat ik hierdoor mijn concentratie verloor. Daarnaast vond ik dat er te weinig oefeningen werden gegeven, waardoor ik het gevoel had dat ik de stof niet goed kon toepassen.\n",
      "\n",
      "Ik begrijp dat het onderwerp trends in AI uitgebreid is, maar ik denk dat het mogelijk is om de les meer interactief en boeiend te maken. Wellicht kunnen er meer praktijkvoorbeelden worden gegeven en kunnen we actief deelnemen aan discussies om de leerervaring te versterken.\n",
      "\n",
      "Ik wil graag benadrukken dat ik de lessen oprecht waardeer en waardeer dat u de tijd en moeite neemt om ons te onderwijzen. Mijn opmerkingen zijn bedoeld als constructieve feedback om de lessen te verbeteren. Ik kijk uit naar de volgende les en hoop op een meer boeiende en interactieve leerervaring.\n",
      "\n",
      "Met vriendelijke groet,\n",
      "[Je naam]\n"
     ]
    }
   ],
   "source": [
    "prompt = f\"\"\"\n",
    "Stel een beleefde email op, zowel het gevoel als de korte inhoud worden hierna tussen triple backticks gegeven.\n",
    "\n",
    "\n",
    "gevoel: ```{gevoel}```\n",
    "inhoud: ```{inhoud}```\n",
    "\"\"\"\n",
    "\n",
    "mail = get_answer(prompt, False)\n",
    "print(mail)"
   ]
  },
  {
   "cell_type": "markdown",
   "id": "bd561f1b-cbde-4497-bc36-5be73efb54f6",
   "metadata": {},
   "source": [
    "En als docent lezen we de mail niet meer natuurlijk, maar doen we net het omgekeerde"
   ]
  },
  {
   "cell_type": "code",
   "execution_count": null,
   "id": "5c5df91e-1aa1-4198-9719-ab66dd92c36d",
   "metadata": {
    "ExecuteTime": {
     "end_time": "2023-10-03T10:29:18.558435Z",
     "start_time": "2023-10-03T10:29:14.753672Z"
    }
   },
   "outputs": [
    {
     "name": "stdout",
     "output_type": "stream",
     "text": [
      "- Feedback over de tweede les trends in AI\n",
      "- Belang van constructieve kritiek\n",
      "- Ongenoegen over de les\n",
      "- Les was te langdradig en concentratie werd verloren\n",
      "- Gebrek aan oefeningen om de stof toe te passen\n",
      "- Suggestie om de les interactiever en boeiender te maken met praktijkvoorbeelden en discussies\n",
      "- Waardering voor de lessen en de tijd en moeite van de docent\n",
      "- Constructieve feedback om de lessen te verbeteren\n",
      "- Uitkijken naar de volgende les voor een meer boeiende en interactieve leerervaring\n",
      "\n",
      "Algemeen gevoel van de mail: negatief\n"
     ]
    }
   ],
   "source": [
    "prompt = f\"\"\"\n",
    "Vat de mail tussen triple backticks samen in een aantal bulletpoints, geef ook het algemene gevoel van de mail als 'positief', 'negatief' of 'neutraal'\n",
    "\n",
    "mail: ```{mail}```\n",
    "\"\"\"\n",
    "\n",
    "res = get_answer(prompt, False)\n",
    "print(res)"
   ]
  },
  {
   "cell_type": "markdown",
   "id": "c490e90e-28d9-4798-a0e8-2a5c8930c30b",
   "metadata": {},
   "source": [
    "In dit geval toch al een upgrade van negatief naar neutraal, ChatGPT staat aan de zijde van de docent."
   ]
  },
  {
   "cell_type": "markdown",
   "id": "43127f56f56ab44d",
   "metadata": {
    "collapsed": false
   },
   "source": [
    "### oefening\n",
    "\n",
    "Creëer een prompt die op een heel positieve manier suggesties geeft over hoe de verdere cursus 'Trends in AI' kan verbeterd worden.\n",
    "(en als er iets goed uitkomt, mail gerust 😉)"
   ]
  }
 ],
 "metadata": {
  "kernelspec": {
   "display_name": "Python 3 (ipykernel)",
   "language": "python",
   "name": "python3"
  },
  "language_info": {
   "codemirror_mode": {
    "name": "ipython",
    "version": 3
   },
   "file_extension": ".py",
   "mimetype": "text/x-python",
   "name": "python",
   "nbconvert_exporter": "python",
   "pygments_lexer": "ipython3",
   "version": "3.11.5"
  }
 },
 "nbformat": 4,
 "nbformat_minor": 5
}
